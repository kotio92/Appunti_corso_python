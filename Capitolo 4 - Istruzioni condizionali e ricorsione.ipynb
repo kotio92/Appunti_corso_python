{
 "cells": [
  {
   "cell_type": "code",
   "execution_count": 1,
   "metadata": {},
   "outputs": [],
   "source": [
    "import math"
   ]
  },
  {
   "cell_type": "markdown",
   "metadata": {},
   "source": [
    "## Operatore modulo"
   ]
  },
  {
   "cell_type": "markdown",
   "metadata": {},
   "source": [
    "L'operatore modulo è molto utile in quanto ti permette di controllare se un numero è divisibile per un altro."
   ]
  },
  {
   "cell_type": "code",
   "execution_count": 2,
   "metadata": {},
   "outputs": [
    {
     "name": "stdout",
     "output_type": "stream",
     "text": [
      "3.3333333333333335\n",
      "1\n"
     ]
    }
   ],
   "source": [
    "quoziente = 10/3\n",
    "print(quoziente)\n",
    "\n",
    "resto = 10 % 3\n",
    "print(resto)"
   ]
  },
  {
   "cell_type": "markdown",
   "metadata": {},
   "source": [
    "## Espressioni Booleane"
   ]
  },
  {
   "cell_type": "markdown",
   "metadata": {},
   "source": [
    "Un'espressione booleana è un'espressione che è o **vera o falsa**. In Python un'espressione che è vera ha valore 1, un'espressione falsa ha valore 0."
   ]
  },
  {
   "cell_type": "code",
   "execution_count": 3,
   "metadata": {},
   "outputs": [
    {
     "name": "stdout",
     "output_type": "stream",
     "text": [
      "Next statement is true\n",
      "True\n",
      "Next statement is false\n",
      "False\n"
     ]
    }
   ],
   "source": [
    "print(\"Next statement is true\")\n",
    "print(5 == 5)\n",
    "\n",
    "print(\"Next statement is false\")\n",
    "print(6 == 5)\n"
   ]
  },
  {
   "cell_type": "markdown",
   "metadata": {},
   "source": [
    "### Operatori di confronto"
   ]
  },
  {
   "cell_type": "code",
   "execution_count": 4,
   "metadata": {},
   "outputs": [
    {
     "name": "stdout",
     "output_type": "stream",
     "text": [
      "False\n",
      "False\n",
      "True\n",
      "True\n"
     ]
    }
   ],
   "source": [
    "print(2>4)\n",
    "print(1!=1)\n",
    "print(6<12)\n",
    "print(10>=10)"
   ]
  },
  {
   "cell_type": "markdown",
   "metadata": {},
   "source": [
    "**N.B**: Un errore comune è quello di usare il simbolo di uguale (=) invece del doppio uguale (==): ricorda che = è un operatore di assegnazione e == un operatore di confronto."
   ]
  },
  {
   "cell_type": "markdown",
   "metadata": {},
   "source": [
    "### Operatori logici"
   ]
  },
  {
   "cell_type": "markdown",
   "metadata": {},
   "source": [
    "Ci sono tre operatori logici: **and**, **or** e **not**."
   ]
  },
  {
   "cell_type": "code",
   "execution_count": 5,
   "metadata": {},
   "outputs": [
    {
     "name": "stdout",
     "output_type": "stream",
     "text": [
      "First statement is True\n",
      "Second statement is False\n",
      "Third statement is True\n"
     ]
    }
   ],
   "source": [
    "print(\"First statement is\",10>5 and 12>1)\n",
    "print(\"Second statement is\", 12>2 and 45>50)\n",
    "print(\"Third statement is\", 12>2 or 45>50)"
   ]
  },
  {
   "cell_type": "markdown",
   "metadata": {},
   "source": [
    "L'operatore **not** nega il valore di un'espressione booleana, trasformando in falsa un'espressione vera e viceversa."
   ]
  },
  {
   "cell_type": "code",
   "execution_count": 6,
   "metadata": {},
   "outputs": [
    {
     "name": "stdout",
     "output_type": "stream",
     "text": [
      "Fourth statement is False\n"
     ]
    }
   ],
   "source": [
    "print(\"Fourth statement is\", not(13>12))"
   ]
  },
  {
   "cell_type": "markdown",
   "metadata": {},
   "source": [
    "### Esecuzione condizionale"
   ]
  },
  {
   "cell_type": "markdown",
   "metadata": {},
   "source": [
    "L'espressione booleana dopo l'istruzione **if** è chiamata condizione. L'istruzione indentata che segue i due punti della riga if viene eseguita solo se la condizione è vera. Se la condizione è falsa non viene eseguito alcunché."
   ]
  },
  {
   "cell_type": "code",
   "execution_count": 7,
   "metadata": {},
   "outputs": [
    {
     "name": "stdout",
     "output_type": "stream",
     "text": [
      "Condizione verificata\n"
     ]
    }
   ],
   "source": [
    "x = 6\n",
    "\n",
    "if x > 0:\n",
    "    print(\"Condizione verificata\")\n",
    "else:\n",
    "    print(\"Condizione pisciata\")"
   ]
  },
  {
   "cell_type": "markdown",
   "metadata": {},
   "source": [
    "In qualche occasione può essere utile avere un corpo vuoto, ad esempio quando il codice corrispondente non è ancora stato scritto ma si desidera ugualmente poter provare il programma. In questo caso puoi usare l'istruzione **pass**, che è solo un segnaposto e non fa niente:"
   ]
  },
  {
   "cell_type": "code",
   "execution_count": 12,
   "metadata": {},
   "outputs": [],
   "source": [
    "y = 8\n",
    "\n",
    "if y>5:\n",
    "    pass\n",
    "else:\n",
    "    print(\"Condizione non verificata\")"
   ]
  },
  {
   "cell_type": "markdown",
   "metadata": {},
   "source": [
    "Nei due casi successivi le due alternative sono chiamate ramificazioni perché rappresentano delle ramificazioni nel flusso di esecuzione del programma, e solo una di esse verrà effettivamente eseguita."
   ]
  },
  {
   "cell_type": "code",
   "execution_count": 15,
   "metadata": {},
   "outputs": [
    {
     "name": "stdout",
     "output_type": "stream",
     "text": [
      "4 è pari\n",
      "-1 è negativo\n"
     ]
    }
   ],
   "source": [
    "def verificaParità(numero):\n",
    "    if numero%2==0:\n",
    "        print(numero, \"è pari\")\n",
    "    elif numero%2==1:\n",
    "        print(numero, \"è dispari\")\n",
    "    else:\n",
    "        print(\"Inserimento non valido\")\n",
    "\n",
    "def positivoNegativoNullo(numero):\n",
    "    if numero>0:\n",
    "        print(numero, \"è positivo\")\n",
    "    elif numero<0:\n",
    "        print(numero, \"è negativo\")\n",
    "    else:\n",
    "        print(numero, \"è nullo\")\n",
    "        \n",
    "verificaParità(4)\n",
    "positivoNegativoNullo(-1)"
   ]
  },
  {
   "cell_type": "markdown",
   "metadata": {},
   "source": [
    "### Condizioni annidate"
   ]
  },
  {
   "cell_type": "markdown",
   "metadata": {},
   "source": [
    "Un'espressione condizionale può anche essere inserita nel corpo di un'altra espressione condizionale: un'espressione di questo tipo viene detta \"**condizione annidata**\"."
   ]
  },
  {
   "cell_type": "code",
   "execution_count": 16,
   "metadata": {},
   "outputs": [
    {
     "name": "stdout",
     "output_type": "stream",
     "text": [
      "15 è maggiore di 11\n"
     ]
    }
   ],
   "source": [
    "def confrontaNumeri(a,b):\n",
    "    if a==b:\n",
    "        print(a,\"e\",b,\"sono uguali\")\n",
    "    else:\n",
    "        if a>b:\n",
    "            print(a,\"è maggiore di\",b)\n",
    "        elif a<b:\n",
    "            print(a,\"è minore di\",b)\n",
    "\n",
    "confrontaNumeri(15,11)"
   ]
  },
  {
   "cell_type": "markdown",
   "metadata": {},
   "source": [
    "Possono essere usati anche gli operatori logici"
   ]
  },
  {
   "cell_type": "code",
   "execution_count": 21,
   "metadata": {},
   "outputs": [
    {
     "name": "stdout",
     "output_type": "stream",
     "text": [
      "Promosso!\n"
     ]
    }
   ],
   "source": [
    "def esitoEsame(voto):\n",
    "    if voto > 17 and voto <31:\n",
    "        print(\"Promosso!\")\n",
    "    elif 0<voto<18:\n",
    "        print (\"Bocciato...\")\n",
    "    else:\n",
    "        print(\"Errore inserimento\")\n",
    "\n",
    "esitoEsame(25)"
   ]
  },
  {
   "cell_type": "markdown",
   "metadata": {},
   "source": [
    "### Istruzione return"
   ]
  },
  {
   "cell_type": "markdown",
   "metadata": {},
   "source": [
    "L'istruzione *return* ti permette di terminare l'esecuzione di una funzione prima di raggiungerne la fine."
   ]
  },
  {
   "cell_type": "code",
   "execution_count": 25,
   "metadata": {},
   "outputs": [
    {
     "name": "stdout",
     "output_type": "stream",
     "text": [
      "Inserire solo numeri positivi !\n"
     ]
    }
   ],
   "source": [
    "def stampaLogaritmo(x):\n",
    "    if x<=0:\n",
    "        print(\"Inserire solo numeri positivi !\")\n",
    "        return\n",
    "    risultato = math.log(x,math.e)\n",
    "    print(\"Il log è:\", risultato)\n",
    "\n",
    "stampaLogaritmo(-4)"
   ]
  },
  {
   "cell_type": "markdown",
   "metadata": {},
   "source": [
    "### Ricorsione"
   ]
  },
  {
   "cell_type": "markdown",
   "metadata": {},
   "source": [
    "Il processo di una funzione che richiama sé stessa è detto **ricorsione**, e la funzione è definita ricorsiva."
   ]
  },
  {
   "cell_type": "code",
   "execution_count": 26,
   "metadata": {},
   "outputs": [
    {
     "name": "stdout",
     "output_type": "stream",
     "text": [
      "12\n",
      "11\n",
      "10\n",
      "9\n",
      "8\n",
      "7\n",
      "6\n",
      "5\n",
      "4\n",
      "3\n",
      "2\n",
      "1\n",
      "Via!\n"
     ]
    }
   ],
   "source": [
    "def contoAllaRovescia(n):\n",
    "    if n==0:\n",
    "        print(\"Via!\")\n",
    "    elif n<0:\n",
    "        print(\"Inserire numero positivo!\")\n",
    "        return\n",
    "    else:\n",
    "        print(n)\n",
    "        contoAllaRovescia(n-1)\n",
    "\n",
    "contoAllaRovescia(12)"
   ]
  },
  {
   "cell_type": "markdown",
   "metadata": {},
   "source": [
    "## Inserimento da tastiera"
   ]
  },
  {
   "cell_type": "markdown",
   "metadata": {},
   "source": [
    "Python fornisce un insieme di funzioni predefinite che permettono di inserire dati da tastiera. La più semplice di esse è **input**. Quando questa funzione è chiamata il programma si ferma ed attende che l'operatore inserisca qualcosa, confermando poi l'inserimento con Invio (o Enter). A quel punto il programma riprende e la funzione input ritorna ciò che l'operatore ha inserito sotto forma di stringa:"
   ]
  },
  {
   "cell_type": "code",
   "execution_count": 27,
   "metadata": {},
   "outputs": [
    {
     "name": "stdout",
     "output_type": "stream",
     "text": [
      "Inserisci nome: Lucio\n",
      "Inserisci cognome: Dalla\n",
      "Inserisci età: 23\n",
      "Lucio Dalla 23\n"
     ]
    }
   ],
   "source": [
    "def inserisciInfo():\n",
    "    nome = input(\"Inserisci nome: \")\n",
    "    cognome = input(\"Inserisci cognome: \")\n",
    "    eta = int(input(\"Inserisci età: \"))\n",
    "    print(nome, cognome, eta)\n",
    "\n",
    "inserisciInfo()"
   ]
  }
 ],
 "metadata": {
  "kernelspec": {
   "display_name": "Python 3",
   "language": "python",
   "name": "python3"
  },
  "language_info": {
   "codemirror_mode": {
    "name": "ipython",
    "version": 3
   },
   "file_extension": ".py",
   "mimetype": "text/x-python",
   "name": "python",
   "nbconvert_exporter": "python",
   "pygments_lexer": "ipython3",
   "version": "3.7.6"
  }
 },
 "nbformat": 4,
 "nbformat_minor": 2
}
