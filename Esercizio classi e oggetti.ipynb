{
 "cells": [
  {
   "cell_type": "markdown",
   "metadata": {},
   "source": [
    "# Esercizio sulle Classi"
   ]
  },
  {
   "cell_type": "code",
   "execution_count": 1,
   "metadata": {},
   "outputs": [],
   "source": [
    "import math"
   ]
  },
  {
   "cell_type": "code",
   "execution_count": 2,
   "metadata": {},
   "outputs": [],
   "source": [
    "# Classe Persona\n",
    "class Persona:\n",
    "    def __init__(self,nome,cognome):                 # Costruttore parametrico (per inizializzare gli attributi)\n",
    "        self.nome = nome                             # attributo'Nome'\n",
    "        self.cognome = cognome                       # attributo 'Cognome'\n",
    "\n",
    "# Classe ContoCorrente\n",
    "class contoCorrente:\n",
    "    def __init__(self, persona, saldo, politico):    # Costruttore parametrico (per inizializzare gli attributi)\n",
    "        self.persona = persona                       # attributo'Persona'\n",
    "        self.saldo = saldo                           # attributo'Saldo'\n",
    "        self.politico = politico                     # attributo'Politico'\n",
    "\n",
    "    def stampaDati(self):                            # Metodo stampaDati\n",
    "        print(\"Nome:\", self.persona.nome)            # il self viene utilizzato come parametro di ogni attributo e metodo\n",
    "        print(\"Cognome:\", self.persona.cognome)      # per mantenere il riferimento all'oggetto\n",
    "        print(\"Saldo:\", self.saldo)\n",
    "        print(\"Esposizione politica:\", self.politico)\n",
    "\n",
    "    def getSaldo(self):                              # Metodo getSaldo\n",
    "        return self.saldo\n",
    "    \n",
    "\n",
    "def tassaSaldo(saldo):                               # Funzione tassaSaldo \n",
    "    netto = 0.9*saldo\n",
    "    return netto"
   ]
  },
  {
   "cell_type": "markdown",
   "metadata": {},
   "source": [
    "Genero 2 oggetti persona."
   ]
  },
  {
   "cell_type": "code",
   "execution_count": 3,
   "metadata": {},
   "outputs": [],
   "source": [
    "p1 = Persona(\"Antonio\",\"Canova\")\n",
    "p2 = Persona(\"Gennaro\",\"Gattuso\")"
   ]
  },
  {
   "cell_type": "markdown",
   "metadata": {},
   "source": [
    "Genero 2 oggetti contocorrente."
   ]
  },
  {
   "cell_type": "code",
   "execution_count": 4,
   "metadata": {},
   "outputs": [],
   "source": [
    "conto_antonio = contoCorrente(p1,38000,False)\n",
    "conto_gennaro = contoCorrente(p2,55000,True)"
   ]
  },
  {
   "cell_type": "markdown",
   "metadata": {},
   "source": [
    "Utilizzo due metodi della classe contocorrente: *stampaDati* e *getSaldo*"
   ]
  },
  {
   "cell_type": "code",
   "execution_count": 5,
   "metadata": {},
   "outputs": [
    {
     "name": "stdout",
     "output_type": "stream",
     "text": [
      "Nome: Antonio\n",
      "Cognome: Canova\n",
      "Saldo: 38000\n",
      "Esposizione politica: False\n",
      "38000\n"
     ]
    }
   ],
   "source": [
    "conto_antonio.stampaDati()\n",
    "saldo_antonio = conto_antonio.getSaldo()\n",
    "print(saldo_antonio)"
   ]
  },
  {
   "cell_type": "markdown",
   "metadata": {},
   "source": [
    "Il metodo *getSaldo* mi ritorna un valore intero, il saldo_antonio, che può essere utilizzato come parametro per la funzione *tassaSaldo*."
   ]
  },
  {
   "cell_type": "code",
   "execution_count": 6,
   "metadata": {},
   "outputs": [
    {
     "name": "stdout",
     "output_type": "stream",
     "text": [
      "34200.0\n"
     ]
    }
   ],
   "source": [
    "saldo_antonio_tassato = tassaSaldo(conto_antonio.saldo)\n",
    "print(saldo_antonio_tassato)"
   ]
  },
  {
   "cell_type": "markdown",
   "metadata": {},
   "source": [
    "Oppure, se non voglio passare per la variabile:"
   ]
  },
  {
   "cell_type": "code",
   "execution_count": 7,
   "metadata": {},
   "outputs": [
    {
     "name": "stdout",
     "output_type": "stream",
     "text": [
      "34200.0\n"
     ]
    }
   ],
   "source": [
    "saldo_antonio_tassato = tassaSaldo(conto_antonio.getSaldo())\n",
    "print(saldo_antonio_tassato)"
   ]
  }
 ],
 "metadata": {
  "kernelspec": {
   "display_name": "Python 3",
   "language": "python",
   "name": "python3"
  },
  "language_info": {
   "codemirror_mode": {
    "name": "ipython",
    "version": 3
   },
   "file_extension": ".py",
   "mimetype": "text/x-python",
   "name": "python",
   "nbconvert_exporter": "python",
   "pygments_lexer": "ipython3",
   "version": "3.7.6"
  }
 },
 "nbformat": 4,
 "nbformat_minor": 2
}
