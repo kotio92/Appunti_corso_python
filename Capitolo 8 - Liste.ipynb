{
 "cells": [
  {
   "cell_type": "code",
   "execution_count": 1,
   "metadata": {},
   "outputs": [],
   "source": [
    "import math"
   ]
  },
  {
   "cell_type": "markdown",
   "metadata": {},
   "source": [
    "# Liste"
   ]
  },
  {
   "cell_type": "markdown",
   "metadata": {},
   "source": [
    "Una lista è una serie ordinata di valori, ognuno identificato da un indice."
   ]
  },
  {
   "cell_type": "markdown",
   "metadata": {},
   "source": [
    "I valori che fanno parte della lista sono chiamati **elementi**."
   ]
  },
  {
   "cell_type": "markdown",
   "metadata": {},
   "source": [
    "Gli elementi di una lista possono essere di tipo qualsiasi."
   ]
  },
  {
   "cell_type": "markdown",
   "metadata": {},
   "source": [
    "## Creazione di liste"
   ]
  },
  {
   "cell_type": "markdown",
   "metadata": {},
   "source": [
    "Ci sono parecchi modi di creare una lista nuova, e quello più semplice è racchiudere i suoi elementi tra parentesi quadrate."
   ]
  },
  {
   "cell_type": "code",
   "execution_count": 2,
   "metadata": {},
   "outputs": [
    {
     "name": "stdout",
     "output_type": "stream",
     "text": [
      "['kotio', 'giannino', 28, 15.12, 3.141592653589793]\n",
      "['ciao', 'riciao', 28, ['ciaone', 12.12]]\n",
      "<class 'list'>\n"
     ]
    }
   ],
   "source": [
    "lista1 = [\"kotio\",\"giannino\", 28, 15.12, math.pi]  # Gli elementi di una stessa lista non devono necessariamente\n",
    "                                                   # essere tutti dello stesso tipo\n",
    "\n",
    "lista2 = [\"ciao\", \"riciao\", 28, [\"ciaone\",12.12]]  # lista annidata\n",
    "\n",
    "print(lista1)\n",
    "print(lista2)\n",
    "print(type(lista1))"
   ]
  },
  {
   "cell_type": "markdown",
   "metadata": {},
   "source": [
    "## Funzione range"
   ]
  },
  {
   "cell_type": "markdown",
   "metadata": {},
   "source": [
    "Le liste che contengono numeri interi consecutivi sono così comuni che Python fornisce un modo semplice per crearle:"
   ]
  },
  {
   "cell_type": "code",
   "execution_count": 3,
   "metadata": {},
   "outputs": [
    {
     "name": "stdout",
     "output_type": "stream",
     "text": [
      "1\n",
      "2\n",
      "3\n",
      "4\n",
      "<class 'range'>\n"
     ]
    }
   ],
   "source": [
    "for i in range(1,5):\n",
    "    print(i)\n",
    "\n",
    "a = range(1,10)\n",
    "print(type(a))"
   ]
  },
  {
   "cell_type": "markdown",
   "metadata": {},
   "source": [
    "Se è presente un terzo argomento questo specifica l'intervallo tra valori successivi, chiamato **passo**."
   ]
  },
  {
   "cell_type": "code",
   "execution_count": 4,
   "metadata": {},
   "outputs": [
    {
     "name": "stdout",
     "output_type": "stream",
     "text": [
      "3\n",
      "6\n",
      "9\n",
      "12\n",
      "15\n",
      "18\n",
      "21\n",
      "24\n",
      "27\n",
      "30\n"
     ]
    }
   ],
   "source": [
    "b = range(3,31,3)\n",
    "for i in b:\n",
    "    print(i)"
   ]
  },
  {
   "cell_type": "markdown",
   "metadata": {},
   "source": [
    "Infine esiste una lista speciale che non contiene alcun elemento: è chiamata **lista vuota** ed è indicata da []."
   ]
  },
  {
   "cell_type": "code",
   "execution_count": 5,
   "metadata": {},
   "outputs": [
    {
     "name": "stdout",
     "output_type": "stream",
     "text": [
      "<class 'list'>\n"
     ]
    }
   ],
   "source": [
    "listaVuota = []\n",
    "print(type(listaVuota))"
   ]
  },
  {
   "cell_type": "markdown",
   "metadata": {},
   "source": [
    "## Accesso elementi della lista"
   ]
  },
  {
   "cell_type": "markdown",
   "metadata": {},
   "source": [
    "La sintassi per l'accesso agli elementi di una lista è la stessa che abbiamo già visto per i caratteri di una stringa: anche in questo caso facciamo uso dell'operatore porzione ([ ])."
   ]
  },
  {
   "cell_type": "code",
   "execution_count": 6,
   "metadata": {},
   "outputs": [
    {
     "name": "stdout",
     "output_type": "stream",
     "text": [
      "['ciao', 'riciao', 28, ['ciaone', 12.12]]\n",
      "ciao\n",
      "riciao\n",
      "28\n",
      "['ciaone', 12.12]\n",
      "<class 'str'>\n",
      "<class 'list'>\n"
     ]
    }
   ],
   "source": [
    "print(lista2)\n",
    "print(lista2[0])\n",
    "print(lista2[1])\n",
    "print(lista2[2])\n",
    "print(lista2[-1])\n",
    "print(type(lista2[0]))\n",
    "print(type(lista2[-1]))"
   ]
  },
  {
   "cell_type": "markdown",
   "metadata": {},
   "source": [
    "## Appartenenza a una lista"
   ]
  },
  {
   "cell_type": "markdown",
   "metadata": {},
   "source": [
    "**in** è un operatore booleano (restituisce vero o falso) che controlla se un valore è presente in una lista."
   ]
  },
  {
   "cell_type": "code",
   "execution_count": 8,
   "metadata": {},
   "outputs": [
    {
     "name": "stdout",
     "output_type": "stream",
     "text": [
      "['ciao', 'riciao', 28, ['ciaone', 12.12]]\n",
      "Trovato\n"
     ]
    }
   ],
   "source": [
    "print(lista2)\n",
    "\n",
    "def checkInList(stringa):\n",
    "    if stringa in lista2:\n",
    "        print(\"Trovato\")\n",
    "    elif stringa not in lista2:\n",
    "        print(\"Non trovato\")\n",
    "\n",
    "checkInList(\"ciao\")     # N.b: non controlla all'interno delle liste annidate"
   ]
  },
  {
   "cell_type": "markdown",
   "metadata": {},
   "source": [
    "## Operazioni sulle liste"
   ]
  },
  {
   "cell_type": "markdown",
   "metadata": {},
   "source": [
    "### Concatenamento"
   ]
  },
  {
   "cell_type": "code",
   "execution_count": 9,
   "metadata": {},
   "outputs": [
    {
     "name": "stdout",
     "output_type": "stream",
     "text": [
      "['kotio', 'giannino', 28, 15.12, 3.141592653589793, 'ciao', 'riciao', 28, ['ciaone', 12.12]]\n"
     ]
    }
   ],
   "source": [
    "print(lista1 + lista2)"
   ]
  },
  {
   "cell_type": "markdown",
   "metadata": {},
   "source": [
    "### Ripetizione"
   ]
  },
  {
   "cell_type": "code",
   "execution_count": 10,
   "metadata": {},
   "outputs": [
    {
     "name": "stdout",
     "output_type": "stream",
     "text": [
      "['kotio', 'giannino', 28, 15.12, 3.141592653589793, 'kotio', 'giannino', 28, 15.12, 3.141592653589793, 'kotio', 'giannino', 28, 15.12, 3.141592653589793]\n"
     ]
    }
   ],
   "source": [
    "print(lista1*3)"
   ]
  },
  {
   "cell_type": "markdown",
   "metadata": {},
   "source": [
    "## Porzioni di liste"
   ]
  },
  {
   "cell_type": "code",
   "execution_count": 11,
   "metadata": {},
   "outputs": [
    {
     "name": "stdout",
     "output_type": "stream",
     "text": [
      "['kotio', 'giannino']\n",
      "[15.12, 3.141592653589793]\n",
      "[28, 15.12, 3.141592653589793]\n",
      "[28, 15.12]\n",
      "['kotio', 'giannino', 28, 15.12, 3.141592653589793]\n"
     ]
    }
   ],
   "source": [
    "print(lista1[0:2])\n",
    "print(lista1[-2:])\n",
    "print(lista1[2:])\n",
    "print(lista1[2:4])\n",
    "print(lista1[:])"
   ]
  },
  {
   "cell_type": "markdown",
   "metadata": {},
   "source": [
    "## Le liste sono mutabili"
   ]
  },
  {
   "cell_type": "markdown",
   "metadata": {},
   "source": [
    "A differenza delle stringhe le liste sono mutabili e ciò significa che gli elementi possono essere modificati."
   ]
  },
  {
   "cell_type": "code",
   "execution_count": 12,
   "metadata": {},
   "outputs": [
    {
     "name": "stdout",
     "output_type": "stream",
     "text": [
      "['kotio', 'giannino', 28, 15.12, 3.141592653589793]\n",
      "['kotiolotto', 'giannino', 28, 15.12, 3.141592653589793]\n"
     ]
    }
   ],
   "source": [
    "print(lista1)\n",
    "lista1[0] = 'kotiolotto'\n",
    "print(lista1)"
   ]
  },
  {
   "cell_type": "code",
   "execution_count": 13,
   "metadata": {},
   "outputs": [
    {
     "name": "stdout",
     "output_type": "stream",
     "text": [
      "['kotiolotto', 'giannino', 28, 2.718281828459045, 120]\n"
     ]
    }
   ],
   "source": [
    "# Con l'operatore porzione possiamo modificare più elementi alla volta:\n",
    "\n",
    "lista1[-2:] = [math.e, 120]\n",
    "print(lista1)"
   ]
  },
  {
   "cell_type": "markdown",
   "metadata": {},
   "source": [
    "Possiamo rimuovere elementi da una lista assegnando loro una lista vuota:"
   ]
  },
  {
   "cell_type": "code",
   "execution_count": 14,
   "metadata": {},
   "outputs": [
    {
     "name": "stdout",
     "output_type": "stream",
     "text": [
      "['kotiolotto', 'giannino', 28, 2.718281828459045]\n",
      "['kotiolotto', 28, 2.718281828459045]\n"
     ]
    }
   ],
   "source": [
    "lista1.remove(lista1[-1])\n",
    "print(lista1)\n",
    "\n",
    "# oppure\n",
    "\n",
    "lista1.remove('giannino')\n",
    "print(lista1)"
   ]
  },
  {
   "cell_type": "markdown",
   "metadata": {},
   "source": [
    "## Cancellazione liste"
   ]
  },
  {
   "cell_type": "markdown",
   "metadata": {},
   "source": [
    "**del** rimuove uno o più elementi da una lista:"
   ]
  },
  {
   "cell_type": "code",
   "execution_count": 15,
   "metadata": {},
   "outputs": [
    {
     "name": "stdout",
     "output_type": "stream",
     "text": [
      "['kotiolotto', 28, 2.718281828459045]\n",
      "['kotiolotto', 28]\n",
      "['a', 'b', 'c', 'd', 6, [4, 'dd']]\n",
      "['c', 'd', 6, [4, 'dd']]\n",
      "['c', 'd', 6]\n"
     ]
    }
   ],
   "source": [
    "print(lista1)\n",
    "del lista1[2]\n",
    "print(lista1)\n",
    "\n",
    "lista3 = [\"a\", \"b\", \"c\", \"d\", 6, [4,\"dd\"]]\n",
    "print(lista3)\n",
    "del lista3[:2]\n",
    "print(lista3)\n",
    "del lista3[-1]\n",
    "print(lista3)"
   ]
  },
  {
   "cell_type": "markdown",
   "metadata": {},
   "source": [
    "## Identificatore"
   ]
  },
  {
   "cell_type": "markdown",
   "metadata": {},
   "source": [
    "Ogni oggetto ha un identificatore unico che possiamo ricavare con la funzione *id*"
   ]
  },
  {
   "cell_type": "code",
   "execution_count": 17,
   "metadata": {},
   "outputs": [
    {
     "name": "stdout",
     "output_type": "stream",
     "text": [
      "L'identificatore di a è:  1889738050672\n",
      "L'identificatore di b è:  1889738050672\n",
      "L'identificatore di c è:  1889738068400\n"
     ]
    }
   ],
   "source": [
    "a = \"banana\"\n",
    "b = \"banana\"\n",
    "c = \"mela\"\n",
    "\n",
    "print(\"L'identificatore di a è: \",id(a))\n",
    "print(\"L'identificatore di b è: \",id(b))\n",
    "print(\"L'identificatore di c è: \", id(c))"
   ]
  },
  {
   "cell_type": "markdown",
   "metadata": {},
   "source": [
    "Otteniamo lo stesso identificatore e ciò significa che Python ha creato in memoria un'unica stringa \n",
    "cui fanno riferimento entrambe le variabili a e b."
   ]
  },
  {
   "cell_type": "markdown",
   "metadata": {},
   "source": [
    "In questo ambito le liste si comportano diversamente dalle stringhe, dato che quando creiamo due liste queste sono sempre oggetti diversi:"
   ]
  },
  {
   "cell_type": "code",
   "execution_count": 16,
   "metadata": {},
   "outputs": [
    {
     "name": "stdout",
     "output_type": "stream",
     "text": [
      "['a', 2, 4]\n",
      "['a', 2, 4]\n",
      "L'identificatore di lista4 è:  2868635077064\n",
      "L'identificatore di lista5 è:  2868635091144\n"
     ]
    }
   ],
   "source": [
    "lista4 = ['a',2,4]\n",
    "lista5 = ['a',2,4]\n",
    "print(lista4)\n",
    "print(lista5)\n",
    "\n",
    "print(\"L'identificatore di lista4 è: \", id(lista4))\n",
    "print(\"L'identificatore di lista5 è: \", id(lista5))"
   ]
  },
  {
   "cell_type": "markdown",
   "metadata": {},
   "source": [
    "## Alias"
   ]
  },
  {
   "cell_type": "markdown",
   "metadata": {},
   "source": [
    "Dato che ciascuna variabile contiene un oggetto, quando assegniamo una variabile ad un'altra entrambe\n",
    "le variabili si riferiranno allo stesso oggetto:"
   ]
  },
  {
   "cell_type": "code",
   "execution_count": 17,
   "metadata": {},
   "outputs": [
    {
     "name": "stdout",
     "output_type": "stream",
     "text": [
      "[1, 5, 8]\n",
      "[1, 5, 8]\n"
     ]
    }
   ],
   "source": [
    "a = [1,5,8]\n",
    "b = a\n",
    "\n",
    "print(a)\n",
    "print(b)"
   ]
  },
  {
   "cell_type": "markdown",
   "metadata": {},
   "source": [
    "La stessa lista in questo caso ha due nomi differenti, a e b, e diciamo che questi sono due **alias**. Dato che l'oggetto cui entrambi si riferiscono è lo stesso è indifferente quale degli alias si usi per effettuare un'elaborazione:"
   ]
  },
  {
   "cell_type": "code",
   "execution_count": 18,
   "metadata": {},
   "outputs": [
    {
     "name": "stdout",
     "output_type": "stream",
     "text": [
      "[10, 5, 8]\n",
      "[10, 5, 8]\n"
     ]
    }
   ],
   "source": [
    "b[0] = 10\n",
    "print(a)\n",
    "print(b)"
   ]
  },
  {
   "cell_type": "markdown",
   "metadata": {},
   "source": [
    "## Clonare le liste"
   ]
  },
  {
   "cell_type": "markdown",
   "metadata": {},
   "source": [
    "Se vogliamo modificare una lista e mantenere una copia dell'originale dobbiamo essere in grado di copiare il contenuto della lista e non solo di creare un suo alias. Questo processo è talvolta chiamato **clonazione**.\n"
   ]
  },
  {
   "cell_type": "code",
   "execution_count": 19,
   "metadata": {},
   "outputs": [
    {
     "name": "stdout",
     "output_type": "stream",
     "text": [
      "[2, 6, 77]\n",
      "[2, 6, 77]\n"
     ]
    }
   ],
   "source": [
    "a =[2,6,77]\n",
    "print(a)\n",
    "b = a[:] # con questa operazione associo a b tutti gli elementi della lista a ma rendo le due variabili indipendenti !\n",
    "         # Infatti prendendo una porzione di a genero un nuovo oggetto lista.\n",
    "print(b)"
   ]
  },
  {
   "cell_type": "markdown",
   "metadata": {},
   "source": [
    "Quindi apportando la seguente modifica:"
   ]
  },
  {
   "cell_type": "code",
   "execution_count": 20,
   "metadata": {},
   "outputs": [
    {
     "name": "stdout",
     "output_type": "stream",
     "text": [
      "[2, 6, 77]\n",
      "[5.21, 6, 77]\n"
     ]
    }
   ],
   "source": [
    "b[0]=5.21\n",
    "print(a)\n",
    "print(b)"
   ]
  },
  {
   "cell_type": "markdown",
   "metadata": {},
   "source": [
    "siamo liberi di modificare b senza doverci preoccupare di a."
   ]
  },
  {
   "cell_type": "markdown",
   "metadata": {},
   "source": [
    "#### Parametri di tipo lista"
   ]
  },
  {
   "cell_type": "markdown",
   "metadata": {},
   "source": [
    "Se passiamo una lista come parametro di funzione in realtà passiamo un suo riferimento e non una sua copia. Questo vuol dire che se una funzione modifica una lista passata come parametro, viene modificata la lista stessa e non una sua copia.\n"
   ]
  },
  {
   "cell_type": "code",
   "execution_count": 22,
   "metadata": {},
   "outputs": [
    {
     "name": "stdout",
     "output_type": "stream",
     "text": [
      "[1, 2, 3, 4]\n",
      "[2, 3, 4]\n"
     ]
    }
   ],
   "source": [
    "numeri = [1,2,3,4]\n",
    "print(numeri)\n",
    "\n",
    "def cancellaTesta(lista):\n",
    "    del lista[0]\n",
    "\n",
    "cancellaTesta(numeri)\n",
    "print(numeri)"
   ]
  },
  {
   "cell_type": "markdown",
   "metadata": {},
   "source": [
    "Si vede chiaramente che nonostante la funzione non ritorni nessun valore la lista è stata comunque modificata."
   ]
  },
  {
   "cell_type": "markdown",
   "metadata": {},
   "source": [
    "## Accesso alle liste annidate"
   ]
  },
  {
   "cell_type": "markdown",
   "metadata": {},
   "source": [
    "Una lista annidata è una lista che compare come elemento di un'altra lista."
   ]
  },
  {
   "cell_type": "code",
   "execution_count": 23,
   "metadata": {},
   "outputs": [
    {
     "name": "stdout",
     "output_type": "stream",
     "text": [
      "['a', 'b', 34, ['kotio', 'loco0', 22], 234]\n",
      "kotio\n",
      "22\n"
     ]
    }
   ],
   "source": [
    "lista6 = ['a','b',34,['kotio','loco0',22],234]\n",
    "\n",
    "print(lista6)\n",
    "\n",
    "# Primo modo (due tempi)\n",
    "\n",
    "annidata = lista6[3]\n",
    "print(annidata[0])\n",
    "\n",
    "# Secondo modo (un tempo)\n",
    "\n",
    "annidata = lista6[3][2]\n",
    "print(annidata)"
   ]
  },
  {
   "cell_type": "markdown",
   "metadata": {},
   "source": [
    "## Matrici"
   ]
  },
  {
   "cell_type": "markdown",
   "metadata": {},
   "source": [
    "Le liste annidate sono spesso usate per rappresentare matrici."
   ]
  },
  {
   "cell_type": "code",
   "execution_count": 24,
   "metadata": {},
   "outputs": [
    {
     "name": "stdout",
     "output_type": "stream",
     "text": [
      "[[1, 2, 3], [4, 5, 6], [7, 8, 9]]\n"
     ]
    }
   ],
   "source": [
    "matrice = [[1,2,3],[4,5,6],[7,8,9]]\n",
    "print(matrice)"
   ]
  },
  {
   "cell_type": "code",
   "execution_count": 25,
   "metadata": {},
   "outputs": [
    {
     "name": "stdout",
     "output_type": "stream",
     "text": [
      "3\n"
     ]
    }
   ],
   "source": [
    "print(matrice[0][2])       # Il primo indice seleziona la riga ed il secondo la colonna."
   ]
  },
  {
   "cell_type": "code",
   "execution_count": 26,
   "metadata": {},
   "outputs": [
    {
     "name": "stdout",
     "output_type": "stream",
     "text": [
      "9\n"
     ]
    }
   ],
   "source": [
    "print(matrice[2][2])       # Questo è un modo comune di rappresentare le matrici ma non è l'unico\n"
   ]
  }
 ],
 "metadata": {
  "kernelspec": {
   "display_name": "Python 3",
   "language": "python",
   "name": "python3"
  },
  "language_info": {
   "codemirror_mode": {
    "name": "ipython",
    "version": 3
   },
   "file_extension": ".py",
   "mimetype": "text/x-python",
   "name": "python",
   "nbconvert_exporter": "python",
   "pygments_lexer": "ipython3",
   "version": "3.7.6"
  }
 },
 "nbformat": 4,
 "nbformat_minor": 2
}
