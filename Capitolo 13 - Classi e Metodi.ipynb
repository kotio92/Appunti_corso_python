{
 "cells": [
  {
   "cell_type": "code",
   "execution_count": 1,
   "metadata": {},
   "outputs": [],
   "source": [
    "import math"
   ]
  },
  {
   "cell_type": "markdown",
   "metadata": {},
   "source": [
    "# Classi e metodi"
   ]
  },
  {
   "cell_type": "markdown",
   "metadata": {},
   "source": [
    "**Metodi**: ne abbiamo già visto qualcuno nel caso dei dizionari, quando abbiamo invocato *keys* e *values*. Ogni metodo è associato ad una classe ed è destinato ad essere invocato sulle istanze di quella classe."
   ]
  },
  {
   "cell_type": "markdown",
   "metadata": {},
   "source": [
    "### Metodo di inizializzazione"
   ]
  },
  {
   "cell_type": "markdown",
   "metadata": {},
   "source": [
    "Il **metodo di inizializzazione** è un metodo speciale invocato quando si crea un oggetto. \n",
    "Il nome di questo metodo è __init__ (due caratteri di sottolineatura, seguiti da init e da altri due caratteri di sottolineatura)."
   ]
  },
  {
   "cell_type": "code",
   "execution_count": 2,
   "metadata": {},
   "outputs": [
    {
     "name": "stdout",
     "output_type": "stream",
     "text": [
      "Giovanni Allevi\n",
      "Marco Rossi\n",
      "Giovanni - Allevi\n"
     ]
    }
   ],
   "source": [
    "# Un metodo di inizializzazione per la classe Tempo potrebbe essere:\n",
    "\n",
    "class Persona:\n",
    "    def __init__(self, nome, cognome):            # sto andando a definire un costruttore parametrizzato\n",
    "        self.nome = nome                          # I attributo\n",
    "        self.cognome = cognome                    # II attributo\n",
    "\n",
    "    def __str__(self):\n",
    "        return self.nome + ' - ' + self.cognome   # Il metodo __str__ ritorna una rappresentazione di un oggetto\n",
    "                                                  # Punto sotto forma di stringa\n",
    "                                                  # La stampa di un oggetto Punto invoca __str__ sull'oggetto:\n",
    "                                                  # la definizione di __str__ cambia dunque anche il comportamento\n",
    "                                                  # di print\n",
    "\n",
    "p1 = Persona(\"Giovanni\",\"Allevi\")   # creo un oggetto usando il costruttore parametrizzato\n",
    "\n",
    "p2 = Persona(\"Marco\",\"Rossi\")\n",
    "\n",
    "print(p1.nome, p1.cognome)\n",
    "print(p2.nome, p2.cognome)\n",
    "print(p1)"
   ]
  },
  {
   "cell_type": "markdown",
   "metadata": {},
   "source": [
    "### Polimorfismo"
   ]
  },
  {
   "cell_type": "markdown",
   "metadata": {},
   "source": [
    "Il **polimorfismo** è la capacità di eseguire un'azione su un oggetto indipendentemente dal suo tipo."
   ]
  },
  {
   "cell_type": "code",
   "execution_count": 3,
   "metadata": {},
   "outputs": [
    {
     "name": "stdout",
     "output_type": "stream",
     "text": [
      "10 ciaokotio\n"
     ]
    }
   ],
   "source": [
    "# Di seguito un esempio di polimorfismo\n",
    "\n",
    "def stampaRisultato(a,b):\n",
    "    somma = a + b\n",
    "    return somma\n",
    "\n",
    "ris = stampaRisultato(3,7)                # ritorna numeri interi\n",
    "\n",
    "ris2 = stampaRisultato(\"ciao\",\"kotio\")    # ritorna stringhe concatenate\n",
    "\n",
    "print(ris,ris2)"
   ]
  }
 ],
 "metadata": {
  "kernelspec": {
   "display_name": "Python 3",
   "language": "python",
   "name": "python3"
  },
  "language_info": {
   "codemirror_mode": {
    "name": "ipython",
    "version": 3
   },
   "file_extension": ".py",
   "mimetype": "text/x-python",
   "name": "python",
   "nbconvert_exporter": "python",
   "pygments_lexer": "ipython3",
   "version": "3.7.6"
  }
 },
 "nbformat": 4,
 "nbformat_minor": 2
}
