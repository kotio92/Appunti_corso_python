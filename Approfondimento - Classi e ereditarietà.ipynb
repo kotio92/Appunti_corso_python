{
 "cells": [
  {
   "cell_type": "markdown",
   "metadata": {},
   "source": [
    "#### 1. Classi"
   ]
  },
  {
   "cell_type": "markdown",
   "metadata": {},
   "source": [
    "Le **classi** sono un fantastico strumento che ci permette di raggruppare variabili e funzioni nei nostri programmi in maniera logica e riutilizzabile, il che ci consente di gestire progetti anche di grosse dimensioni."
   ]
  },
  {
   "cell_type": "markdown",
   "metadata": {},
   "source": [
    "Ogni classe avrà **ATTRIBUTI**, ovvero variabili che caratterizzano quella classe, più alcune funzioni associate che chiameremo **METODI**."
   ]
  },
  {
   "cell_type": "markdown",
   "metadata": {},
   "source": [
    "Immaginiamo un esempio: la scuola."
   ]
  },
  {
   "cell_type": "markdown",
   "metadata": {},
   "source": [
    "Grazie alle Classi possiamo definire le proprietà \n",
    "di ciascuno studente in un MODELLO GENERICO chiamato Classe e da qui far\n",
    "derivare ciascun singolo individuo assegnandogli i suoi attributi personali, vedremo a brevissimo come.\n",
    "\n",
    "Una Classe viene spesso metaforizzata come una \"fabbrica di oggetti\", e ciascun oggetto creato a partire da \n",
    "questo Modello Generico viene chiamato **ISTANZA**."
   ]
  },
  {
   "cell_type": "markdown",
   "metadata": {},
   "source": [
    "Nel nostro esempio avremo quindi un Modello Generico di studente chiamato Classe Studente, ed Ogni studente creato sarà un'Istanza di questo Modello."
   ]
  },
  {
   "cell_type": "code",
   "execution_count": 2,
   "metadata": {},
   "outputs": [],
   "source": [
    "class Studente:\n",
    "    # per definire gli attributi della classe devo usare il metodo __init__, che significa \"costruttore\", che significa\n",
    "    # inizializzatore, conosciuto come \"metodo costruttore\": il suo scopo è quello di costruire gli oggetti\n",
    "    def __init__(self,nome,cognome,corso_studi):\n",
    "        self.nome = nome\n",
    "        self.cognome = cognome\n",
    "        self.corso_studi = corso_studi\n",
    "        # Ora, abbiamo detto che ai metodi viene passato SELF, quindi l'Istanza, perché rappresenta l'oggetto \n",
    "        # a cui dovranno essere associate il resto delle proprietà passate, Nome, Cognome ecc.\n",
    "        # SELF rappresenta quindi una referenza a ciascun'oggetto creato dalla Classe, e il Metodo __init__ inizializza \n",
    "        # e attiva le varie proprietà di ciascun SELF, quindi di Ciascun Oggetto o Istanza.\n",
    "        # Quindi per ciascuno dei SELF, ovvero degli Studenti inizializzati, il nome sarà corrispondente al Nome Passato \n",
    "        # ad __init__, il Cognome di ciascun SELF sarà corrispondente al Cognome Passato, e stesso discorso \n",
    "        # per il corso di Studi.\n",
    "        # Questi attributi prendono il nome di Variabili dell'Istanza."
   ]
  },
  {
   "cell_type": "code",
   "execution_count": 4,
   "metadata": {},
   "outputs": [],
   "source": [
    "stud1 = Studente(\"Enrico\",\"Marino\",\"Ingegneria\")\n",
    "stud2 = Studente(\"Lorenzo\",\"Insigne\",\"Matematica\")"
   ]
  },
  {
   "cell_type": "code",
   "execution_count": 5,
   "metadata": {},
   "outputs": [
    {
     "name": "stdout",
     "output_type": "stream",
     "text": [
      "<__main__.Studente object at 0x0000029537439748>\n",
      "<__main__.Studente object at 0x0000029537439708>\n"
     ]
    }
   ],
   "source": [
    "print(stud1)\n",
    "print(stud2)\n",
    "# Come vedete dall'output di print, si tratta di Oggetti di tipo Studente, quindi creati dal nostro Modello Generico \n",
    "# della Classe Studente, presenti in due allocazioni di Memoria diverse. \n",
    "# Ciascuno con le sue proprietà, ciascuno con la sua area di Memoria.\n",
    "# Volendo, ora che il modello è stato progettato, potete creare centinaia di studenti a partire dalla stessa classe, \n",
    "# in maniera estremamente semplice e conveniente."
   ]
  },
  {
   "cell_type": "code",
   "execution_count": 7,
   "metadata": {},
   "outputs": [
    {
     "name": "stdout",
     "output_type": "stream",
     "text": [
      "Marino\n",
      "Matematica\n"
     ]
    }
   ],
   "source": [
    "# Vediamo come visualizzare alcuni precisi attributi di ciascun oggetto\n",
    "print(stud1.cognome)\n",
    "print(stud2.corso_studi)"
   ]
  },
  {
   "cell_type": "markdown",
   "metadata": {},
   "source": [
    "#### Esercizio sulle classi"
   ]
  },
  {
   "cell_type": "code",
   "execution_count": 8,
   "metadata": {},
   "outputs": [],
   "source": [
    "# Creo una classe Giocatore\n",
    "\n",
    "class Giocatore:\n",
    "    def __init__(self,nome,cognome,eta,squadra):   # metodo per inizializzare le proprieta\n",
    "        self.nome = nome\n",
    "        self.cognome = cognome\n",
    "        self.eta = eta\n",
    "        self.squadra = squadra\n",
    "        \n",
    "    def schedaGiocatore(self):                     # metodo\n",
    "        print(\"Nome: \" + self.nome)\n",
    "        print(\"Cognome: \" + self.cognome)\n",
    "        print(\"Età: \" + str(self.eta))\n",
    "        print(\"Squadra: \" + self.squadra)\n",
    "        "
   ]
  },
  {
   "cell_type": "code",
   "execution_count": 9,
   "metadata": {},
   "outputs": [],
   "source": [
    "G1 = Giocatore(\"Marek\",\"Hamsik\",30,\"Napoli\")\n",
    "G2 = Giocatore(\"Francesco\",\"Totti\",40,\"Roma\")"
   ]
  },
  {
   "cell_type": "code",
   "execution_count": 10,
   "metadata": {},
   "outputs": [
    {
     "name": "stdout",
     "output_type": "stream",
     "text": [
      "<__main__.Giocatore object at 0x000002953743D0C8>\n",
      "<__main__.Giocatore object at 0x000002953743D148>\n",
      "Marek\n",
      "Hamsik\n",
      "\n",
      "Nome: Francesco\n",
      "Cognome: Totti\n",
      "Età: 40\n",
      "Squadra: Roma\n",
      "None\n",
      "\n",
      "\n"
     ]
    }
   ],
   "source": [
    "print(G1)\n",
    "print(G2)\n",
    "print(G1.nome)\n",
    "print(G1.cognome+\"\\n\")\n",
    "print(G2.schedaGiocatore())   # richiamo il metodo schedaGiocatore() dell'oggetto G2 (classe Giocatore)\n",
    "print(\"\\n\")"
   ]
  },
  {
   "cell_type": "code",
   "execution_count": 11,
   "metadata": {},
   "outputs": [
    {
     "name": "stdout",
     "output_type": "stream",
     "text": [
      "Nome: Marek\n",
      "Cognome: Hamsik\n",
      "Età: 30\n",
      "Squadra: Napoli\n"
     ]
    }
   ],
   "source": [
    "# N.B: Come vedete i risultati sono identici a quelli ottenuti precedentemente, con la differenza che stavolta come \n",
    "# parametro abbiamo dovuto passare il nome dell'Istanza per cui volevamo ottenere la scheda personale.\n",
    "# Di fatto, questo è ció che succede in maniera automatica quando chiamiamo il metodo su ciascun Oggetto, \n",
    "# ed è proprio per questo motivo che utilizziamo Self, che rappresenta quindi l'Istanza passata automaticamente.\n",
    "\n",
    "Giocatore.schedaGiocatore(G1)"
   ]
  },
  {
   "cell_type": "markdown",
   "metadata": {},
   "source": [
    "#### 2. Variabli di istanza e Variabili di classe"
   ]
  },
  {
   "cell_type": "markdown",
   "metadata": {},
   "source": [
    "Partendo dalla classe Studente definita come prima, ciascuna Istanza di questa classe, quindi ciascuno Studente creato a partire da questo Modello Generico, dispone di attributi che sono propri di se stesso, come il suo Nome, il suo Cognome e il suo Corso di Studi.\n",
    "Questi vengono chiamati **Variabili di Istanza**, e come ricorderete vengono impostati tramite SELF, che rappresenta proprio una referenza a ciascuna Istanza."
   ]
  },
  {
   "cell_type": "markdown",
   "metadata": {},
   "source": [
    "Le **Variabili di Classe** invece sono attributi che vengono condivisi da tutte le Istanze della Classe.\n",
    "Si tratta di una distinzione piuttosto semplice da capire:\n",
    "Ad esempio, una caratteristica comune a tutti gli studenti di un'Istituto potrebbe essere il numero di Ore di Lezione Settimanali. \n",
    "Potrebbe essere quindi una buona idea quella di definire una Variabile di Classe chiamata ore_settimanali, in modo che tutte le Istanze abbiano questa proprietà senza bisogno di specificarla ogni volta."
   ]
  },
  {
   "cell_type": "code",
   "execution_count": 12,
   "metadata": {},
   "outputs": [],
   "source": [
    "class Studente:\n",
    "    ore_settimanali = 25  # variabile di classe\n",
    "    \n",
    "    def __init__(self,nome,cognome,corso_studi):\n",
    "        self.nome = nome                        # var di istanza\n",
    "        self.cognome = cognome                  # var di istanza\n",
    "        self.corso_studi = corso_studi          # var di istanza\n",
    "        \n",
    "    def schedaStudente(self):\n",
    "        print(\"Nome: \" + self.nome)\n",
    "        print(\"Cognome: \" + self.cognome)\n",
    "        print(\"Corso di studi: \" + self.corso_studi)\n",
    "\n",
    "stud1 = Studente(\"Enrico\",\"Di Masi\",\"Ingegneria\")\n",
    "stud2 = Studente(\"Lorenzo\",\"Catena\",\"Matematica\")"
   ]
  },
  {
   "cell_type": "code",
   "execution_count": 13,
   "metadata": {},
   "outputs": [
    {
     "name": "stdout",
     "output_type": "stream",
     "text": [
      "25\n",
      "25\n"
     ]
    }
   ],
   "source": [
    "# Ora, volendo visualizzare il numero di ore settimanali nella scheda_personale, possiamo accedervi in due modi,\n",
    "# tramite la Classe o tramite l'Istanza\n",
    "\n",
    "print(Studente.ore_settimanali)     # tramite classe\n",
    "print(stud1.ore_settimanali)        # tramite istanza"
   ]
  },
  {
   "cell_type": "code",
   "execution_count": 14,
   "metadata": {},
   "outputs": [
    {
     "name": "stdout",
     "output_type": "stream",
     "text": [
      "29\n",
      "25\n"
     ]
    }
   ],
   "source": [
    "# Supponiamo che studente_uno decida di frequentare anche un corso Serale di 4 ore aggiuntive settimanali, \n",
    "# e che il sistema debba quindi incrementare il numero delle ore settimanali della sua specifica scheda personale.\n",
    "\n",
    "# Accedere alla varibile di classe tramite l'Istanza si dimostra in questo caso una mossa vincente, possiamo infatti fare:\n",
    "\n",
    "stud1.ore_settimanali += 4\n",
    "print(stud1.ore_settimanali)\n",
    "print(stud2.ore_settimanali)\n",
    "\n",
    "# Così facendo, la nostra Istanza si crea la sua versione personalizzata della Variabile, \n",
    "# senza influenzare gli oggetti restanti. "
   ]
  },
  {
   "cell_type": "markdown",
   "metadata": {},
   "source": [
    "#### 3. Ereditarietà"
   ]
  },
  {
   "cell_type": "markdown",
   "metadata": {},
   "source": [
    "Proprio come un bambino eredita dai gentitori alcuni tratti distintivi come colore degli occhi e dei capelli, in informatica l'ereditarietà ci consente di creare classi figlie \n",
    "a partire da classi genitore, ereditandone in questa maniera gli attributi ed i metodi.\n",
    "Permettendo questo genere di riutilizzo del codice scritto, l'ereditarietà si dimostra estremamente utile nello snellire i nostri programmi.\n",
    "Possiamo inoltre aggiungere nuovi metodi e proprietà alle nostre classi figlie lasciando cosí invariata la classe genitore."
   ]
  },
  {
   "cell_type": "markdown",
   "metadata": {},
   "source": [
    "#### Esercizio sull'ereditarietà"
   ]
  },
  {
   "cell_type": "markdown",
   "metadata": {},
   "source": [
    "Ció che ora faremo sarà creare una classe genitore chiamata Persona, in cui specificheremo le caratteristiche comuni ai due, che verranno poi ereditate dalle due sottoclassi figlie, \n",
    "la sottoclasse studente e la sottoclasse insegnante."
   ]
  },
  {
   "cell_type": "code",
   "execution_count": 15,
   "metadata": {},
   "outputs": [],
   "source": [
    "class Persona:\n",
    "    \n",
    "    def __init__(self,nome,cognome,eta,citta):\n",
    "        self.nome = nome\n",
    "        self.cognome = cognome\n",
    "        self.eta = eta\n",
    "        self.citta = citta\n",
    "        \n",
    "    def stampaPersona(self):\n",
    "        print(\"Nome: \" + self.nome)\n",
    "        print(\"Cognome: \" + self.cognome)\n",
    "        print(\"Età: \" + str(self.eta))\n",
    "        print(\"Città: \" + self.citta)\n",
    "        \n",
    "    def modificaPersona(self):\n",
    "        scelta = input(\"1. Modifica nome\\n2. Modifica cognome\\n3. Modifica età\\n4. Modifica città\\n\")\n",
    "        if scelta == \"1\":\n",
    "            self.nome = input(\"Nuovo nome: \")\n",
    "        elif scelta == \"2\":\n",
    "            self.cognome = input(\"Nuovo cognome: \")\n",
    "        elif scelta == \"3\":\n",
    "            self.eta = input(\"Nuova età: \")\n",
    "        elif scelta == \"4\":\n",
    "            self.citta = input(\"Nuova città: \")\n",
    "        else:\n",
    "            print(\"Errore digitazione\")\n",
    "        \n",
    "        \n",
    "p1 = Persona(\"Alessandro\",\"Magno\",23,\"Milano\")\n"
   ]
  },
  {
   "cell_type": "code",
   "execution_count": 16,
   "metadata": {},
   "outputs": [
    {
     "name": "stdout",
     "output_type": "stream",
     "text": [
      "Nome: Alessandro\n",
      "Cognome: Magno\n",
      "Età: 23\n",
      "Città: Milano\n"
     ]
    }
   ],
   "source": [
    "p1.stampaPersona()"
   ]
  },
  {
   "cell_type": "code",
   "execution_count": 18,
   "metadata": {},
   "outputs": [
    {
     "name": "stdout",
     "output_type": "stream",
     "text": [
      "1. Modifica nome\n",
      "2. Modifica cognome\n",
      "3. Modifica età\n",
      "4. Modifica città\n",
      "2\n",
      "Nuovo cognome: Magnanimo\n"
     ]
    }
   ],
   "source": [
    "p1.modificaPersona()"
   ]
  },
  {
   "cell_type": "code",
   "execution_count": 19,
   "metadata": {},
   "outputs": [],
   "source": [
    "# Quindi ora, per creare le nostre sottoclassi ci basta crearne due nuove come abbiamo fatto fin'ora, \n",
    "# ma con una piccola modifica:\n",
    "\n",
    "class Insegnante(Persona):\n",
    "    pass\n",
    "\n",
    "#Come vedete ho aggiunto delle parentesi, e tra queste parentesi ho passato il nome della classe genitore da cui \n",
    "# voglio ereditare.\n",
    "\n",
    "# In questo caso specifico ho anche aggiunto pass, la cui unica funzione è agire da sostituto per il resto del \n",
    "# codice che ancora non abbiamo scritto"
   ]
  },
  {
   "cell_type": "code",
   "execution_count": 22,
   "metadata": {},
   "outputs": [],
   "source": [
    "# Siamo così in grado di istanziare un Insegnante senza aver ancora scritto nulla al suo interno, e questo \n",
    "# proprio perché stanno ereditando attributi e metodi da Persona:\n",
    "\n",
    "profMatematica = Insegnante(\"Sandro\",\"Sarta\", 48, \"Napoli\")"
   ]
  },
  {
   "cell_type": "code",
   "execution_count": 23,
   "metadata": {},
   "outputs": [
    {
     "name": "stdout",
     "output_type": "stream",
     "text": [
      "Sandro\n",
      "Napoli\n"
     ]
    }
   ],
   "source": [
    "print(profMatematica.nome)\n",
    "print(profMatematica.citta)"
   ]
  },
  {
   "cell_type": "markdown",
   "metadata": {},
   "source": [
    "Ora dobbiamo creare una versione personalizzata del metodo __init__ per la sottoclasse.\n",
    "Per mantenere la semplicità nel nostro codice utilizziamo la funzione super() per far in modo che nome, cognome, ed età vengano gestiti dal metodo __init__ della Classe genitore, ovvero la classe Persona."
   ]
  },
  {
   "cell_type": "code",
   "execution_count": 24,
   "metadata": {},
   "outputs": [],
   "source": [
    "class Insegnante(Persona):\n",
    "    profilo = \"Insegnante\"\n",
    "    \n",
    "    def __init__(self,nome,cognome,eta,citta,materia,num_classi):\n",
    "        super().__init__(nome,cognome,eta,citta)\n",
    "        self.materia = materia\n",
    "        self.num_classi = num_classi\n",
    "    def schedaInsegnante(self):\n",
    "        super().stampaPersona()\n",
    "        print(\"Materia: \" + self.materia)\n",
    "        print(\"Numero classi: \" + str(self.num_classi))\n",
    "        \n",
    "# Per mantenere la semplicità nel nostro codice utilizziamo la funzione super() per far in modo che nome, cognome, \n",
    "# ed età vengano gestiti dal metodo __init__ della Classe genitore, ovvero la classe Persona."
   ]
  },
  {
   "cell_type": "code",
   "execution_count": 26,
   "metadata": {},
   "outputs": [],
   "source": [
    "profItaliano = Insegnante(\"Livia\",\"Pasticci\",53,\"Napoli\",\"Italiano\",4)"
   ]
  },
  {
   "cell_type": "code",
   "execution_count": 27,
   "metadata": {},
   "outputs": [
    {
     "name": "stdout",
     "output_type": "stream",
     "text": [
      "<__main__.Insegnante object at 0x0000029537443548>\n",
      "Nome: Livia\n",
      "Cognome: Pasticci\n",
      "Età: 53\n",
      "Città: Napoli\n",
      "Materia: Italiano\n",
      "Numero classi: 4\n",
      "None\n",
      "Insegnante\n",
      "Insegnante\n"
     ]
    }
   ],
   "source": [
    "print(profItaliano)\n",
    "print(profItaliano.schedaInsegnante())\n",
    "print(Insegnante.profilo)    # accedo da classe\n",
    "print(profItaliano.profilo)  # accedo da oggetto"
   ]
  }
 ],
 "metadata": {
  "kernelspec": {
   "display_name": "Python 3",
   "language": "python",
   "name": "python3"
  },
  "language_info": {
   "codemirror_mode": {
    "name": "ipython",
    "version": 3
   },
   "file_extension": ".py",
   "mimetype": "text/x-python",
   "name": "python",
   "nbconvert_exporter": "python",
   "pygments_lexer": "ipython3",
   "version": "3.7.6"
  }
 },
 "nbformat": 4,
 "nbformat_minor": 2
}
