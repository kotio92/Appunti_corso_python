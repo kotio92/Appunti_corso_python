{
 "cells": [
  {
   "cell_type": "markdown",
   "metadata": {},
   "source": [
    "## Funzioni di conversione del caso"
   ]
  },
  {
   "cell_type": "markdown",
   "metadata": {},
   "source": [
    "### lower()"
   ]
  },
  {
   "cell_type": "code",
   "execution_count": 1,
   "metadata": {},
   "outputs": [],
   "source": [
    "# Riporta tutti i caratteri di una stringa in forma minuscola.\n",
    "parola = 'KOTIO'\n",
    "print(parola)\n",
    "print(parola.lower())"
   ]
  },
  {
   "cell_type": "markdown",
   "metadata": {},
   "source": [
    "### upper()"
   ]
  },
  {
   "cell_type": "code",
   "execution_count": 2,
   "metadata": {},
   "outputs": [],
   "source": [
    "# Riporta tutti i caratteri di una stringa in forma maiuscola.\n",
    "parola = 'kotio'\n",
    "print(parola)\n",
    "print(parola.upper())"
   ]
  },
  {
   "cell_type": "markdown",
   "metadata": {},
   "source": [
    "### capitalize()"
   ]
  },
  {
   "cell_type": "code",
   "execution_count": 3,
   "metadata": {},
   "outputs": [],
   "source": [
    "# riporta il primo carattere di una stringa in forma maiuscola\n",
    "parola = 'kotio'\n",
    "print(parola)\n",
    "print(parola.capitalize())"
   ]
  },
  {
   "cell_type": "markdown",
   "metadata": {},
   "source": [
    "## Funzioni predicato"
   ]
  },
  {
   "cell_type": "markdown",
   "metadata": {},
   "source": [
    "### islower()"
   ]
  },
  {
   "cell_type": "code",
   "execution_count": 4,
   "metadata": {},
   "outputs": [
    {
     "name": "stdout",
     "output_type": "stream",
     "text": [
      "kotio\n",
      "True\n"
     ]
    }
   ],
   "source": [
    "# Controlla se tutti i caratteri della stringa sono minuscoli.\n",
    "parola = 'kotio'\n",
    "print(parola)\n",
    "print(parola.islower())"
   ]
  },
  {
   "cell_type": "markdown",
   "metadata": {},
   "source": [
    "### isupper()"
   ]
  },
  {
   "cell_type": "code",
   "execution_count": 5,
   "metadata": {},
   "outputs": [
    {
     "ename": "SyntaxError",
     "evalue": "invalid syntax (<ipython-input-5-d73c48feb4cd>, line 1)",
     "output_type": "error",
     "traceback": [
      "\u001b[1;36m  File \u001b[1;32m\"<ipython-input-5-d73c48feb4cd>\"\u001b[1;36m, line \u001b[1;32m1\u001b[0m\n\u001b[1;33m    .# Controlla se tutti i caratteri della stringa sono maiuscoli\u001b[0m\n\u001b[1;37m    ^\u001b[0m\n\u001b[1;31mSyntaxError\u001b[0m\u001b[1;31m:\u001b[0m invalid syntax\n"
     ]
    }
   ],
   "source": [
    ".# Controlla se tutti i caratteri della stringa sono maiuscoli\n",
    "parola = 'KOTIO'\n",
    "print(parola)\n",
    "print(parola.isupper())"
   ]
  },
  {
   "cell_type": "markdown",
   "metadata": {},
   "source": [
    "### isspace()"
   ]
  },
  {
   "cell_type": "code",
   "execution_count": 6,
   "metadata": {},
   "outputs": [
    {
     "name": "stdout",
     "output_type": "stream",
     "text": [
      "  \n",
      "True\n"
     ]
    }
   ],
   "source": [
    "# Controlla se tutti i caratteri della stringa sono spazi.\n",
    "parola = '  '\n",
    "print(parola)\n",
    "print(parola.isspace())"
   ]
  },
  {
   "cell_type": "markdown",
   "metadata": {},
   "source": [
    "### isdigit()"
   ]
  },
  {
   "cell_type": "code",
   "execution_count": 7,
   "metadata": {},
   "outputs": [
    {
     "name": "stdout",
     "output_type": "stream",
     "text": [
      "34\n",
      "True\n"
     ]
    }
   ],
   "source": [
    "# Controlla se tutti i caratteri della stringa sono numeri.\n",
    "parola = '34'\n",
    "print(parola)\n",
    "print(parola.isdigit())"
   ]
  },
  {
   "cell_type": "markdown",
   "metadata": {},
   "source": [
    "### isalpha()"
   ]
  },
  {
   "cell_type": "code",
   "execution_count": 8,
   "metadata": {},
   "outputs": [
    {
     "name": "stdout",
     "output_type": "stream",
     "text": [
      "hdihf\n",
      "True\n"
     ]
    }
   ],
   "source": [
    "# Controlla se tutti i caratteri della stringa sono lettere dell'alfabeto.\n",
    "parola = 'hdihf'\n",
    "print(parola)\n",
    "print(parola.isalpha())"
   ]
  },
  {
   "cell_type": "markdown",
   "metadata": {},
   "source": [
    "## Sbarazzarsi degli spazi indesiderati"
   ]
  },
  {
   "cell_type": "markdown",
   "metadata": {},
   "source": [
    "### lstrip()"
   ]
  },
  {
   "cell_type": "code",
   "execution_count": 9,
   "metadata": {},
   "outputs": [
    {
     "name": "stdout",
     "output_type": "stream",
     "text": [
      " kotio è bello\n",
      "kotio è bello\n"
     ]
    }
   ],
   "source": [
    "# Elimina gli spazi presenti a inizio stringa.\n",
    "frase = ' kotio è bello'\n",
    "print(frase)\n",
    "print(frase.lstrip())"
   ]
  },
  {
   "cell_type": "markdown",
   "metadata": {},
   "source": [
    "### rstrip()"
   ]
  },
  {
   "cell_type": "code",
   "execution_count": 10,
   "metadata": {},
   "outputs": [
    {
     "name": "stdout",
     "output_type": "stream",
     "text": [
      "ciao kotio  \n",
      "ciao kotio\n",
      "12\n",
      "10\n"
     ]
    }
   ],
   "source": [
    "# Elimina gli spazi presenti a fine stringa.\n",
    "frase = 'ciao kotio  '\n",
    "print(frase)\n",
    "print(frase.rstrip())\n",
    "print(len(frase))\n",
    "print(len(frase.rstrip()))"
   ]
  },
  {
   "cell_type": "markdown",
   "metadata": {},
   "source": [
    "### strip()"
   ]
  },
  {
   "cell_type": "code",
   "execution_count": 11,
   "metadata": {},
   "outputs": [
    {
     "name": "stdout",
     "output_type": "stream",
     "text": [
      "  ciao kotio   \n",
      "ciao kotio\n",
      "15\n",
      "10\n"
     ]
    }
   ],
   "source": [
    "# Elimina tutti gli spazi presenti all'inizio e alla fine della stringa.\n",
    "frase = '  ciao kotio   '\n",
    "print(frase)\n",
    "print(frase.strip())\n",
    "print(len(frase))\n",
    "print(len(frase.strip()))"
   ]
  },
  {
   "cell_type": "markdown",
   "metadata": {},
   "source": [
    "### split()"
   ]
  },
  {
   "cell_type": "code",
   "execution_count": 12,
   "metadata": {},
   "outputs": [
    {
     "name": "stdout",
     "output_type": "stream",
     "text": [
      " la capra campa, soot iil ponte, capito ?\n",
      "[' la capra campa', ' soot iil ponte', ' capito ?']\n",
      " la capra campa sotto il ponte, capito ?\n",
      "['la', 'capra', 'campa', 'sotto', 'il', 'ponte,', 'capito', '?']\n",
      "<class 'list'>\n"
     ]
    }
   ],
   "source": [
    "# Serve suddividere una stringa in una lista di sottostringhe fornendo un delimitatore a scelta alla funzione.\n",
    "\n",
    "frase = ' la capra campa, soot iil ponte, capito ?'\n",
    "print(frase)\n",
    "print(frase.split(','))\n",
    "\n",
    "# N.B: se non viene specificato nulla viene usato lo spazio come delimitatore\n",
    "\n",
    "frase = ' la capra campa sotto il ponte, capito ?'\n",
    "print(frase)\n",
    "print(frase.split())\n",
    "print(type(frase.split()))"
   ]
  },
  {
   "cell_type": "markdown",
   "metadata": {},
   "source": [
    "## Altri metodi"
   ]
  },
  {
   "cell_type": "markdown",
   "metadata": {},
   "source": [
    "### join()"
   ]
  },
  {
   "cell_type": "code",
   "execution_count": 13,
   "metadata": {},
   "outputs": [
    {
     "name": "stdout",
     "output_type": "stream",
     "text": [
      "ciaokotiocomestai\n",
      "ciao kotio come stai\n",
      "ciao, kotio, come, stai\n"
     ]
    }
   ],
   "source": [
    "# Serve a fare il merge di varie stringhe di una lista in un'unica stringa, specificando un separatore.\n",
    "parole = ['ciao','kotio','come','stai']\n",
    "\n",
    "print(\"\".join(parole))\n",
    "print(' '.join(parole))\n",
    "print(', '.join(parole))"
   ]
  },
  {
   "cell_type": "code",
   "execution_count": 14,
   "metadata": {},
   "outputs": [
    {
     "name": "stdout",
     "output_type": "stream",
     "text": [
      "03/12/1992\n"
     ]
    }
   ],
   "source": [
    "# Esempio di split e join insieme.\n",
    "\n",
    "dataNascita = '03,12,1992'\n",
    "print(\"/\".join(dataNascita.split(',')))"
   ]
  },
  {
   "cell_type": "markdown",
   "metadata": {},
   "source": [
    "### find()"
   ]
  },
  {
   "cell_type": "code",
   "execution_count": 15,
   "metadata": {},
   "outputs": [
    {
     "name": "stdout",
     "output_type": "stream",
     "text": [
      "0\n",
      "5\n",
      "2\n"
     ]
    }
   ],
   "source": [
    "# Restituisce la prima posizione della stringa in cui viene ritrovato il carattere (o sottostringa) ricercato\n",
    "# (distingue fra maiuscole e minuscole).\n",
    "parola = 'ciao io sono kotio loco, io voglio mangiare la pizza'\n",
    "print(parola.find('ciao'))\n",
    "print(parola.find('io'))\n",
    "print(parola.find('a'))"
   ]
  },
  {
   "cell_type": "markdown",
   "metadata": {},
   "source": [
    "### count()"
   ]
  },
  {
   "cell_type": "code",
   "execution_count": 16,
   "metadata": {},
   "outputs": [
    {
     "name": "stdout",
     "output_type": "stream",
     "text": [
      "2\n",
      "1\n",
      "5\n"
     ]
    }
   ],
   "source": [
    "# Restituisce il numero di volte in cui il carattere (o sottostringa) si presenta nella stringa in parentesi\n",
    "# (distingue fra maiuscole e minuscole).\n",
    "frase = 'ciao kotio, ciao a tutti, sono Kotio'\n",
    "print(frase.count('ciao'))\n",
    "print(frase.count('Kotio'))\n",
    "print(frase.count('i'))"
   ]
  }
 ],
 "metadata": {
  "kernelspec": {
   "display_name": "Python 3",
   "language": "python",
   "name": "python3"
  },
  "language_info": {
   "codemirror_mode": {
    "name": "ipython",
    "version": 3
   },
   "file_extension": ".py",
   "mimetype": "text/x-python",
   "name": "python",
   "nbconvert_exporter": "python",
   "pygments_lexer": "ipython3",
   "version": "3.7.6"
  }
 },
 "nbformat": 4,
 "nbformat_minor": 2
}
