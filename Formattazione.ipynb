{
 "cells": [
  {
   "cell_type": "markdown",
   "metadata": {},
   "source": [
    "### Formattazione"
   ]
  },
  {
   "cell_type": "markdown",
   "metadata": {},
   "source": [
    "#### OLD SCHOOL"
   ]
  },
  {
   "cell_type": "markdown",
   "metadata": {},
   "source": [
    "Si inseriscono dei placeholder (ovvero dei caratteri speciali) che mi indicano che in quelle posizioni andranno inserite un determinato tipo di dato, e poi si indicano le variabili che contengono tali dati"
   ]
  },
  {
   "cell_type": "code",
   "execution_count": 1,
   "metadata": {},
   "outputs": [
    {
     "name": "stdout",
     "output_type": "stream",
     "text": [
      "Il mio gatto ha attualmente 2 anni\n",
      "Fra 2 anni avrà 4 anni\n",
      "Il gatto pesa 5.680000 chili\n",
      "Arrotonda, pesa 5.68 chili\n"
     ]
    }
   ],
   "source": [
    "# Es. '%d' indica un intero, '%s' una stringa\n",
    "\n",
    "cat ='gatto'\n",
    "age = 2\n",
    "age_later = 4\n",
    "\n",
    "print('Il mio %s ha attualmente %d anni' % (cat,age))\n",
    "\n",
    "print('Fra %d anni avrà %d anni'% (age, age_later))\n",
    "# fondamentale rispettare l'ordine con cui le variabili vengono elencate\n",
    "\n",
    "weight = 5.6800\n",
    "print('Il gatto pesa %f chili' % (weight))\n",
    "# Possiamo anche arrotondare i numeri con virgola alla cifra che vogliamo\n",
    "\n",
    "print('Arrotonda, pesa %.2f chili' % (weight))\n"
   ]
  },
  {
   "cell_type": "markdown",
   "metadata": {},
   "source": [
    "#### NEW SCHOOL"
   ]
  },
  {
   "cell_type": "markdown",
   "metadata": {},
   "source": [
    "Si utilizzano le parentesi graffe con dentro il nome della variabile da richiamare, e prima della stringa si antepone \n",
    "una 'f'"
   ]
  },
  {
   "cell_type": "code",
   "execution_count": 2,
   "metadata": {},
   "outputs": [
    {
     "name": "stdout",
     "output_type": "stream",
     "text": [
      "il mio gatto ha 2 anni e pesa 5.68 chili\n"
     ]
    }
   ],
   "source": [
    "print(f'il mio {cat} ha {age} anni e pesa {weight} chili')"
   ]
  }
 ],
 "metadata": {
  "kernelspec": {
   "display_name": "Python 3",
   "language": "python",
   "name": "python3"
  },
  "language_info": {
   "codemirror_mode": {
    "name": "ipython",
    "version": 3
   },
   "file_extension": ".py",
   "mimetype": "text/x-python",
   "name": "python",
   "nbconvert_exporter": "python",
   "pygments_lexer": "ipython3",
   "version": "3.7.6"
  }
 },
 "nbformat": 4,
 "nbformat_minor": 2
}
