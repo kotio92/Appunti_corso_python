{
 "cells": [
  {
   "cell_type": "markdown",
   "metadata": {},
   "source": [
    "### Apertura, scrittura e chiusura"
   ]
  },
  {
   "cell_type": "markdown",
   "metadata": {},
   "source": [
    "L'apertura del file crea un oggetto file: nell'esempio che segue useremo la variabile f per riferirci\n",
    "all'oggetto file appena creato."
   ]
  },
  {
   "cell_type": "code",
   "execution_count": 1,
   "metadata": {},
   "outputs": [
    {
     "name": "stdout",
     "output_type": "stream",
     "text": [
      "<class '_io.TextIOWrapper'>\n"
     ]
    }
   ],
   "source": [
    "f = open('test.txt','w')  # apre file 'test.txt' in modalità scrittura (w sta per write)\n",
    "\n",
    "print(type(f))\n",
    "f.write(\"ciao kotio\")    # metodo write per scrivere\n",
    "f.close()                # chiudo il file"
   ]
  },
  {
   "cell_type": "markdown",
   "metadata": {},
   "source": [
    "ogni operazione di lettura/scrittura deve essere preceduta da un'istruzione di apertura e seguita da una di chiusura."
   ]
  },
  {
   "cell_type": "markdown",
   "metadata": {},
   "source": [
    "### Sovrascrittura del file"
   ]
  },
  {
   "cell_type": "markdown",
   "metadata": {},
   "source": [
    "Se adesso provo a riscriverci sopra andrà a sovrascrivere, anche se utilizzo un nuovo oggetto per aprire il file."
   ]
  },
  {
   "cell_type": "code",
   "execution_count": 2,
   "metadata": {},
   "outputs": [],
   "source": [
    "g = open('test.txt','w')\n",
    "g.write(\"riciao kotio\")\n",
    "g.close()"
   ]
  },
  {
   "cell_type": "markdown",
   "metadata": {},
   "source": [
    "Se invece il file non esiste viene creato."
   ]
  },
  {
   "cell_type": "markdown",
   "metadata": {},
   "source": [
    "### Lettura del file"
   ]
  },
  {
   "cell_type": "code",
   "execution_count": 3,
   "metadata": {},
   "outputs": [
    {
     "name": "stdout",
     "output_type": "stream",
     "text": [
      "riciao kotio\n",
      "ricia\n"
     ]
    }
   ],
   "source": [
    "# Possiamo anche riaprire il file in lettura\n",
    "\n",
    "l = open('test.txt','r')\n",
    "testo = l.read()\n",
    "print(testo)\n",
    "l.close()\n",
    "\n",
    "# read accetta anche un argomento che specifica quanti caratteri leggere:\n",
    "\n",
    "l = open('test.txt','r')\n",
    "testo = l.read(5)\n",
    "print(testo)\n",
    "l.close()"
   ]
  },
  {
   "cell_type": "markdown",
   "metadata": {},
   "source": [
    "## Eccezioni"
   ]
  },
  {
   "cell_type": "markdown",
   "metadata": {},
   "source": [
    "Se il programma si blocca a causa di un errore in esecuzione viene creata un'**eccezione**: l'interprete si ferma e mostra un messaggio d'errore."
   ]
  },
  {
   "cell_type": "markdown",
   "metadata": {},
   "source": [
    "In ogni caso il messaggio d'errore è composto di due parti: la **categoria** dell'errore e le **specifiche** separati dai due punti."
   ]
  },
  {
   "cell_type": "markdown",
   "metadata": {},
   "source": [
    "Molte operazioni possono generare errori in esecuzione ma in genere desideriamo che il programma non si blocchi quando questo avviene. La soluzione è quella di gestire l'eccezione usando le istruzioni *try* ed *except*."
   ]
  },
  {
   "cell_type": "code",
   "execution_count": 4,
   "metadata": {},
   "outputs": [
    {
     "name": "stdout",
     "output_type": "stream",
     "text": [
      "File non trovato\n"
     ]
    }
   ],
   "source": [
    "try:\n",
    "    f = open('test2.txt','r')\n",
    "    testo = f.read()\n",
    "    print(testo)\n",
    "    f.close()\n",
    "except:\n",
    "    print(\"File non trovato\")\n",
    "    \n",
    "# L'istruzione try esegue le istruzioni nel suo blocco. Se non si verificano eccezioni (e cioè se le istruzioni\n",
    "# del blocco try sono eseguite senza errori) l'istruzione except ed il blocco corrispondente vengono saltate ed il\n",
    "# flusso del programma prosegue dalla prima istruzione presente dopo il blocco except.\n",
    "\n",
    "# Nel caso si verifichi qualche eccezione (nel nostro caso la più probabile è che il file richiesto non esiste)\n",
    "# viene interrotto immediatamente il flusso del blocco try ed eseguito il blocco except."
   ]
  },
  {
   "cell_type": "code",
   "execution_count": 5,
   "metadata": {},
   "outputs": [
    {
     "name": "stdout",
     "output_type": "stream",
     "text": [
      "Funzione per vedere se esiste il file\n",
      "Inserisci nome file: \n",
      "Il file non è stato trovato\n",
      "Contenuto: None\n"
     ]
    }
   ],
   "source": [
    "# Creiamo ora una funzione per controllare se un file esite o meno\n",
    "print(\"Funzione per vedere se esiste il file\")\n",
    "\n",
    "def checkFile(nomeFile):\n",
    "    try:\n",
    "        f = open(nomeFile,'r')\n",
    "        x = f.read()\n",
    "        f.close()\n",
    "        print(\"Il file è stato trovato\")\n",
    "        return x\n",
    "    except:\n",
    "        print(\"Il file non è stato trovato\")\n",
    "\n",
    "key = input(\"Inserisci nome file: \")\n",
    "contenuto = checkFile(key)\n",
    "print('Contenuto:',contenuto)"
   ]
  },
  {
   "cell_type": "markdown",
   "metadata": {},
   "source": [
    "### Raise"
   ]
  },
  {
   "cell_type": "markdown",
   "metadata": {},
   "source": [
    "Possiamo anche \"sollevare\" delle eccezioni nel corso del programma con l'istruzione *raise* in modo da generare un errore in esecuzione quando qualche condizione non è verificata:"
   ]
  },
  {
   "cell_type": "code",
   "execution_count": 6,
   "metadata": {},
   "outputs": [
    {
     "ename": "Exception",
     "evalue": "Errore indotto ! ",
     "output_type": "error",
     "traceback": [
      "\u001b[1;31m---------------------------------------------------------------------------\u001b[0m",
      "\u001b[1;31mException\u001b[0m                                 Traceback (most recent call last)",
      "\u001b[1;32m<ipython-input-6-abb5578685b7>\u001b[0m in \u001b[0;36m<module>\u001b[1;34m\u001b[0m\n\u001b[0;32m      5\u001b[0m         \u001b[0mprint\u001b[0m\u001b[1;33m(\u001b[0m\u001b[1;34m\"ok!\"\u001b[0m\u001b[1;33m)\u001b[0m\u001b[1;33m\u001b[0m\u001b[1;33m\u001b[0m\u001b[0m\n\u001b[0;32m      6\u001b[0m \u001b[1;33m\u001b[0m\u001b[0m\n\u001b[1;32m----> 7\u001b[1;33m \u001b[0mgiocaNumero\u001b[0m\u001b[1;33m(\u001b[0m\u001b[1;36m89\u001b[0m\u001b[1;33m)\u001b[0m\u001b[1;33m\u001b[0m\u001b[1;33m\u001b[0m\u001b[0m\n\u001b[0m",
      "\u001b[1;32m<ipython-input-6-abb5578685b7>\u001b[0m in \u001b[0;36mgiocaNumero\u001b[1;34m(numero)\u001b[0m\n\u001b[0;32m      1\u001b[0m \u001b[1;32mdef\u001b[0m \u001b[0mgiocaNumero\u001b[0m\u001b[1;33m(\u001b[0m\u001b[0mnumero\u001b[0m\u001b[1;33m)\u001b[0m\u001b[1;33m:\u001b[0m\u001b[1;33m\u001b[0m\u001b[1;33m\u001b[0m\u001b[0m\n\u001b[0;32m      2\u001b[0m     \u001b[1;32mif\u001b[0m \u001b[0mnumero\u001b[0m\u001b[1;33m<\u001b[0m\u001b[1;36m90\u001b[0m\u001b[1;33m:\u001b[0m\u001b[1;33m\u001b[0m\u001b[1;33m\u001b[0m\u001b[0m\n\u001b[1;32m----> 3\u001b[1;33m         \u001b[1;32mraise\u001b[0m \u001b[0mException\u001b[0m\u001b[1;33m(\u001b[0m\u001b[1;34m'Errore indotto ! '\u001b[0m\u001b[1;33m)\u001b[0m\u001b[1;33m\u001b[0m\u001b[1;33m\u001b[0m\u001b[0m\n\u001b[0m\u001b[0;32m      4\u001b[0m     \u001b[1;32melse\u001b[0m\u001b[1;33m:\u001b[0m\u001b[1;33m\u001b[0m\u001b[1;33m\u001b[0m\u001b[0m\n\u001b[0;32m      5\u001b[0m         \u001b[0mprint\u001b[0m\u001b[1;33m(\u001b[0m\u001b[1;34m\"ok!\"\u001b[0m\u001b[1;33m)\u001b[0m\u001b[1;33m\u001b[0m\u001b[1;33m\u001b[0m\u001b[0m\n",
      "\u001b[1;31mException\u001b[0m: Errore indotto ! "
     ]
    }
   ],
   "source": [
    "def giocaNumero(numero):\n",
    "    if numero<90:\n",
    "        raise Exception('Errore indotto ! ')\n",
    "    else:\n",
    "        print(\"ok!\")\n",
    "\n",
    "giocaNumero(89)"
   ]
  }
 ],
 "metadata": {
  "kernelspec": {
   "display_name": "Python 3",
   "language": "python",
   "name": "python3"
  },
  "language_info": {
   "codemirror_mode": {
    "name": "ipython",
    "version": 3
   },
   "file_extension": ".py",
   "mimetype": "text/x-python",
   "name": "python",
   "nbconvert_exporter": "python",
   "pygments_lexer": "ipython3",
   "version": "3.7.6"
  }
 },
 "nbformat": 4,
 "nbformat_minor": 2
}
