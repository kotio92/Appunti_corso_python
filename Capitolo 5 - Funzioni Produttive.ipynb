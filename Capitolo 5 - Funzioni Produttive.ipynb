{
 "cells": [
  {
   "cell_type": "markdown",
   "metadata": {},
   "source": [
    "# Valori di ritorno"
   ]
  },
  {
   "cell_type": "markdown",
   "metadata": {},
   "source": [
    "Nessuna delle funzioni che abbiamo scritto sino a questo momento ha ritornato un valore. In questo capitolo scriveremo funzioni che ritornano un valore e che chiamiamo **funzioni produttive**."
   ]
  },
  {
   "cell_type": "code",
   "execution_count": 1,
   "metadata": {},
   "outputs": [
    {
     "name": "stdout",
     "output_type": "stream",
     "text": [
      "50.26548245743669\n",
      "<class 'float'>\n"
     ]
    }
   ],
   "source": [
    "import math\n",
    "\n",
    "def areaCerchio(raggio):\n",
    "    area = math.pi*raggio**2\n",
    "    return area\n",
    "\n",
    "a = areaCerchio(4)\n",
    "print(a)\n",
    "print(type(a))"
   ]
  },
  {
   "cell_type": "markdown",
   "metadata": {},
   "source": [
    "Abbiamo già visto l'istruzione return, ma nel caso di una funzione produttiva questa istruzione prevede un\n",
    "**valore di ritorno**. Questa istruzione significa: \"ritorna immediatamente da questa funzione a quella chiamante\n",
    "e usa questa espressione come valore di ritorno\"."
   ]
  },
  {
   "cell_type": "markdown",
   "metadata": {},
   "source": [
    "Talvolta è necessario prevedere delle istruzioni di ritorno multiple, ciascuna all'interno di una ramificazione di un'istruzione condizionale:\n"
   ]
  },
  {
   "cell_type": "code",
   "execution_count": 2,
   "metadata": {},
   "outputs": [
    {
     "name": "stdout",
     "output_type": "stream",
     "text": [
      "12\n"
     ]
    }
   ],
   "source": [
    "def valoreAssoluto(x):\n",
    "    if x>0:\n",
    "        return x\n",
    "    elif x<0:\n",
    "        return -x\n",
    "\n",
    "b = valoreAssoluto(-12)\n",
    "print(b)"
   ]
  },
  {
   "cell_type": "markdown",
   "metadata": {},
   "source": [
    "## Ricorsione"
   ]
  },
  {
   "cell_type": "code",
   "execution_count": 3,
   "metadata": {},
   "outputs": [
    {
     "name": "stdout",
     "output_type": "stream",
     "text": [
      "120\n"
     ]
    }
   ],
   "source": [
    "def fattoriale(n):\n",
    "    if n>0:\n",
    "        result = n * fattoriale(n - 1)\n",
    "        return result\n",
    "    else:\n",
    "        return 1\n",
    "\n",
    "c = fattoriale(5)\n",
    "print(c)\n"
   ]
  },
  {
   "cell_type": "markdown",
   "metadata": {},
   "source": [
    "### Controllo dei tipi"
   ]
  },
  {
   "cell_type": "code",
   "execution_count": 9,
   "metadata": {},
   "outputs": [
    {
     "name": "stdout",
     "output_type": "stream",
     "text": [
      "<class 'int'>\n",
      "<class 'str'>\n",
      "<class 'float'>\n"
     ]
    }
   ],
   "source": [
    "# Possiamo usare type per controllare il tipo di una variabile.\n",
    "\n",
    "print(type(b))\n",
    "c = \"ciao\"\n",
    "print(type(c))\n",
    "d = 2.44\n",
    "print(type(d))"
   ]
  }
 ],
 "metadata": {
  "kernelspec": {
   "display_name": "Python 3",
   "language": "python",
   "name": "python3"
  },
  "language_info": {
   "codemirror_mode": {
    "name": "ipython",
    "version": 3
   },
   "file_extension": ".py",
   "mimetype": "text/x-python",
   "name": "python",
   "nbconvert_exporter": "python",
   "pygments_lexer": "ipython3",
   "version": "3.7.6"
  }
 },
 "nbformat": 4,
 "nbformat_minor": 2
}
