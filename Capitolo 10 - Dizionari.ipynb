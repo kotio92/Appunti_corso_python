{
 "cells": [
  {
   "cell_type": "markdown",
   "metadata": {},
   "source": [
    "# Dizionari"
   ]
  },
  {
   "cell_type": "markdown",
   "metadata": {},
   "source": [
    "I tipi di dati composti che abbiamo visto finora (stringhe, liste e tuple) usano gli interi come indici. Qualsiasi tentativo di usare altri tipi di dati produce un errore."
   ]
  },
  {
   "cell_type": "markdown",
   "metadata": {},
   "source": [
    "I **dizionari** sono simili agli altri tipi composti ma si differenziano per il fatto di poter usare qualsiasi tipo di dato immutabile come indice."
   ]
  },
  {
   "cell_type": "markdown",
   "metadata": {},
   "source": [
    "### Creazione di dizionari"
   ]
  },
  {
   "cell_type": "markdown",
   "metadata": {},
   "source": [
    "Se desideriamo creare un dizionario per la traduzione di parole dall'inglese all'italiano è utile poter usare la parola inglese come indice di ricerca della corrispondente italiana. Gli indici usati sono in questo caso delle stringhe."
   ]
  },
  {
   "cell_type": "code",
   "execution_count": 1,
   "metadata": {},
   "outputs": [
    {
     "name": "stdout",
     "output_type": "stream",
     "text": [
      "{'one': 'uno', 'two': 'due'}\n"
     ]
    }
   ],
   "source": [
    "# Un modo per creare un dizionario è partire con un dizionario vuoto e aggiungere via via gli elementi.\n",
    "\n",
    "dizionario = {}               # creazione di un dizionario vuoto\n",
    "dizionario['one'] = 'uno'     # aggiunta I elemento\n",
    "dizionario['two'] = 'due'     # aggiunta II elemento\n",
    "\n",
    "print(dizionario)"
   ]
  },
  {
   "cell_type": "markdown",
   "metadata": {},
   "source": [
    "### Ricerca valori del dizionario"
   ]
  },
  {
   "cell_type": "markdown",
   "metadata": {},
   "source": [
    "Le coppie **chiave-valore** non sono in ordine! Per fortuna non c'è ragione di conservare l'ordine di inserimento dato che il dizionario non fa uso di indici numerici. Per cercare un valore usiamo infatti una chiave:"
   ]
  },
  {
   "cell_type": "code",
   "execution_count": 2,
   "metadata": {},
   "outputs": [
    {
     "name": "stdout",
     "output_type": "stream",
     "text": [
      "due\n"
     ]
    }
   ],
   "source": [
    "print(dizionario['two'])"
   ]
  },
  {
   "cell_type": "markdown",
   "metadata": {},
   "source": [
    "### Operazioni sui dizionari"
   ]
  },
  {
   "cell_type": "code",
   "execution_count": 3,
   "metadata": {},
   "outputs": [
    {
     "name": "stdout",
     "output_type": "stream",
     "text": [
      "{'mele': 5, 'pere': 7, 'banane': 12, 'kiwi': 8}\n"
     ]
    }
   ],
   "source": [
    "magazzino = {'mele':5,'pere':7,'banane':12,'kiwi':8}\n",
    "print(magazzino)"
   ]
  },
  {
   "cell_type": "markdown",
   "metadata": {},
   "source": [
    "#### Eliminazione"
   ]
  },
  {
   "cell_type": "code",
   "execution_count": 4,
   "metadata": {},
   "outputs": [
    {
     "name": "stdout",
     "output_type": "stream",
     "text": [
      "{'mele': 5, 'pere': 7, 'banane': 12}\n"
     ]
    }
   ],
   "source": [
    "del magazzino['kiwi']\n",
    "print(magazzino)"
   ]
  },
  {
   "cell_type": "markdown",
   "metadata": {},
   "source": [
    "#### Modifica"
   ]
  },
  {
   "cell_type": "code",
   "execution_count": 5,
   "metadata": {},
   "outputs": [
    {
     "name": "stdout",
     "output_type": "stream",
     "text": [
      "{'mele': 8, 'pere': 7, 'banane': 12}\n"
     ]
    }
   ],
   "source": [
    "magazzino['mele']= 8\n",
    "print(magazzino)"
   ]
  },
  {
   "cell_type": "markdown",
   "metadata": {},
   "source": [
    "#### Dimensione"
   ]
  },
  {
   "cell_type": "code",
   "execution_count": 6,
   "metadata": {},
   "outputs": [
    {
     "name": "stdout",
     "output_type": "stream",
     "text": [
      "3\n"
     ]
    }
   ],
   "source": [
    "print(len(magazzino))  # restituisce il numero di coppie chiave-valore"
   ]
  },
  {
   "cell_type": "markdown",
   "metadata": {},
   "source": [
    "### Metodi dei dizionari"
   ]
  },
  {
   "cell_type": "markdown",
   "metadata": {},
   "source": [
    "Un metodo è simile ad una funzione, visto che prende parametri e ritorna valori, ma la sintassi di chiamata è diversa."
   ]
  },
  {
   "cell_type": "markdown",
   "metadata": {},
   "source": [
    "Una chiamata ad un metodo è detta **invocazione**; in questo caso diciamo che stiamo invocando *keys* sull'oggetto magazzino."
   ]
  },
  {
   "cell_type": "markdown",
   "metadata": {},
   "source": [
    "* *keys()*: ritorna la lista delle chiavi di un dizionario.\n",
    "* *values()*: ritorna la lista dei valori in un dizionario.\n",
    "* *items()*: torna entrambi nella forma di una lista di tuple, una per ogni coppia chiave-valore."
   ]
  },
  {
   "cell_type": "code",
   "execution_count": 7,
   "metadata": {},
   "outputs": [
    {
     "name": "stdout",
     "output_type": "stream",
     "text": [
      "dict_keys(['mele', 'pere', 'banane'])\n"
     ]
    }
   ],
   "source": [
    "print(magazzino.keys())   # Le parentesi vuote indicano che questo metodo non prende parametri."
   ]
  },
  {
   "cell_type": "code",
   "execution_count": 8,
   "metadata": {},
   "outputs": [
    {
     "name": "stdout",
     "output_type": "stream",
     "text": [
      "dict_values([8, 7, 12])\n"
     ]
    }
   ],
   "source": [
    "print(magazzino.values())"
   ]
  },
  {
   "cell_type": "code",
   "execution_count": 9,
   "metadata": {},
   "outputs": [
    {
     "name": "stdout",
     "output_type": "stream",
     "text": [
      "dict_items([('mele', 8), ('pere', 7), ('banane', 12)])\n"
     ]
    }
   ],
   "source": [
    "print(magazzino.items())"
   ]
  },
  {
   "cell_type": "markdown",
   "metadata": {},
   "source": [
    "### Alias e copia"
   ]
  },
  {
   "cell_type": "markdown",
   "metadata": {},
   "source": [
    "Visto che i dizionari sono mutabili bisogna stare molto attenti agli alias: quando due variabili si riferiscono allo stesso oggetto un cambio effettuato su una influenza immediatamente il contenuto dell'altra."
   ]
  },
  {
   "cell_type": "markdown",
   "metadata": {},
   "source": [
    "Dunque se si desidera modificare un dizionario e mantenere una copia dell'originale si usa il metodo *copy*."
   ]
  },
  {
   "cell_type": "code",
   "execution_count": 10,
   "metadata": {},
   "outputs": [
    {
     "name": "stdout",
     "output_type": "stream",
     "text": [
      "{'alto': 'basso', 'grasso': 'magro', 'intelligente': 'stupido'}\n"
     ]
    }
   ],
   "source": [
    "opposti = {'alto':'basso','grasso':'magro','intelligente':'stupido'}\n",
    "print(opposti)\n",
    "\n",
    "# alias\n",
    "\n",
    "alias = opposti\n",
    "\n",
    "# copia\n",
    "\n",
    "copia = opposti.copy()"
   ]
  },
  {
   "cell_type": "markdown",
   "metadata": {},
   "source": [
    "Alias e Opposti si riferiscono allo stesso oggetto; Copia si riferisce ad una copia del dizionario nuova di zecca.\n",
    "Se modifichiamo Alias, Opposti viene modificato:"
   ]
  },
  {
   "cell_type": "code",
   "execution_count": 12,
   "metadata": {},
   "outputs": [
    {
     "name": "stdout",
     "output_type": "stream",
     "text": [
      "Faccio la modifica\n",
      "alias: {'alto': 'basso', 'grasso': 'magro', 'intelligente': 'idiota'}\n",
      "opposti: {'alto': 'basso', 'grasso': 'magro', 'intelligente': 'idiota'}\n",
      "copia: {'alto': 'basso', 'grasso': 'magro', 'intelligente': 'stupido'}\n"
     ]
    }
   ],
   "source": [
    "print(\"Faccio la modifica\")\n",
    "alias['intelligente'] = 'idiota'\n",
    "print(\"alias:\", alias)\n",
    "print('opposti:', opposti)\n",
    "print('copia:', copia)"
   ]
  },
  {
   "cell_type": "markdown",
   "metadata": {},
   "source": [
    "### Metodo GET"
   ]
  },
  {
   "cell_type": "code",
   "execution_count": 13,
   "metadata": {},
   "outputs": [
    {
     "name": "stdout",
     "output_type": "stream",
     "text": [
      "uno\n"
     ]
    }
   ],
   "source": [
    "print(dizionario.get('one'))"
   ]
  }
 ],
 "metadata": {
  "kernelspec": {
   "display_name": "Python 3",
   "language": "python",
   "name": "python3"
  },
  "language_info": {
   "codemirror_mode": {
    "name": "ipython",
    "version": 3
   },
   "file_extension": ".py",
   "mimetype": "text/x-python",
   "name": "python",
   "nbconvert_exporter": "python",
   "pygments_lexer": "ipython3",
   "version": "3.7.6"
  }
 },
 "nbformat": 4,
 "nbformat_minor": 2
}
