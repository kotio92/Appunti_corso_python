{
 "cells": [
  {
   "cell_type": "markdown",
   "metadata": {},
   "source": [
    "# Iterazioni"
   ]
  },
  {
   "cell_type": "code",
   "execution_count": 1,
   "metadata": {},
   "outputs": [],
   "source": [
    "import math"
   ]
  },
  {
   "cell_type": "markdown",
   "metadata": {},
   "source": [
    "Come puoi avere già scoperto è possibile assegnare più valori ad una stessa variabile, con la variabile che assume sempre l'ultimo valore assegnato:"
   ]
  },
  {
   "cell_type": "code",
   "execution_count": 2,
   "metadata": {},
   "outputs": [
    {
     "name": "stdout",
     "output_type": "stream",
     "text": [
      "5\n",
      "12\n"
     ]
    }
   ],
   "source": [
    "a = 5\n",
    "print(a)\n",
    "a = 12\n",
    "print(a)\n"
   ]
  },
  {
   "cell_type": "markdown",
   "metadata": {},
   "source": [
    "## Ciclo While"
   ]
  },
  {
   "cell_type": "markdown",
   "metadata": {},
   "source": [
    "I computer sono spesso usati per automatizzare compiti ripetitivi: il noiosissimo compito di ripetere operazioni identiche o simili un gran numero di volte senza fare errori è qualcosa che riesce bene ai computer."
   ]
  },
  {
   "cell_type": "code",
   "execution_count": 3,
   "metadata": {},
   "outputs": [
    {
     "name": "stdout",
     "output_type": "stream",
     "text": [
      "5\n",
      "4\n",
      "3\n",
      "2\n",
      "1\n",
      "Viaaa\n"
     ]
    }
   ],
   "source": [
    "def contoAllaRovescia(n):\n",
    "    while n>0:\n",
    "        print(n)\n",
    "        n = n-1\n",
    "    print(\"Viaaa\")\n",
    "\n",
    "contoAllaRovescia(5)"
   ]
  },
  {
   "cell_type": "markdown",
   "metadata": {},
   "source": [
    "Puoi leggere il programma con l'istruzione while come fosse scritto in un linguaggio naturale:\n",
    "\"Finché (while) n è più grande di 0 stampa il valore di n e poi diminuiscilo di 1.\n",
    "Quando arrivi a 0 stampa la stringa Viaaa!\"."
   ]
  },
  {
   "cell_type": "markdown",
   "metadata": {},
   "source": [
    "## Tabelle"
   ]
  },
  {
   "cell_type": "markdown",
   "metadata": {},
   "source": [
    "La stringa '\\t' rappresenta un carattere di tabulazione."
   ]
  },
  {
   "cell_type": "code",
   "execution_count": 4,
   "metadata": {},
   "outputs": [
    {
     "name": "stdout",
     "output_type": "stream",
     "text": [
      "1 \t 0.0\n",
      "2 \t 0.6931471805599453\n",
      "3 \t 1.0986122886681098\n",
      "4 \t 1.3862943611198906\n",
      "5 \t 1.6094379124341003\n",
      "6 \t 1.791759469228055\n",
      "7 \t 1.9459101490553132\n",
      "8 \t 2.0794415416798357\n",
      "9 \t 2.1972245773362196\n",
      "10 \t 2.302585092994046\n"
     ]
    }
   ],
   "source": [
    "def stampaTabellaLogaritmi():\n",
    "    n = 1\n",
    "    while n < 11:\n",
    "        print(n,'\\t',math.log(n,math.e))\n",
    "        n = n+1\n",
    "\n",
    "stampaTabellaLogaritmi()"
   ]
  },
  {
   "cell_type": "markdown",
   "metadata": {},
   "source": [
    "Il carattere di tabulazione sposta il cursore a destra finché quest'ultimo raggiunge una delle posizioni di stop delle tabulazioni. Queste posizioni si ripetono a distanze regolari, tipicamente ogni 4 o 8 caratteri.\n",
    "Le tabulazioni sono utili per allineare in modo semplice le colonne di testo."
   ]
  },
  {
   "cell_type": "markdown",
   "metadata": {},
   "source": [
    "### Sequenze di escape"
   ]
  },
  {
   "cell_type": "markdown",
   "metadata": {},
   "source": [
    "Il carattere di backslash '\\' in '\\t' indica l'inizio di una sequenza di escape. Le sequenze di escape sono usate per rappresentare caratteri invisibili come la tabulazione ('\\t') e il ritorno a capo ('\\n'). Può comparire in qualsiasi punto di una stringa."
   ]
  },
  {
   "cell_type": "markdown",
   "metadata": {},
   "source": [
    "### Tabelle bidimensionali"
   ]
  },
  {
   "cell_type": "markdown",
   "metadata": {},
   "source": [
    "Una tabella bidimensionale è una tabella dove leggi un valore all'intersezione tra una riga ed una colonna, la tabella della moltiplicazione ne è un buon esempio."
   ]
  },
  {
   "cell_type": "code",
   "execution_count": 5,
   "metadata": {},
   "outputs": [
    {
     "name": "stdout",
     "output_type": "stream",
     "text": [
      "2 \t4 \t6 \t8 \t10 \t12 \t14 \t16 \t18 \t20 \t\n"
     ]
    }
   ],
   "source": [
    "def stampaMultipliDue():\n",
    "    i = 1\n",
    "    while i<=10:\n",
    "        print(2*i, \"\\t\", end = '')\n",
    "        i = i + 1\n",
    "\n",
    "# La prima riga inizializza una variabile chiamata i che agisce come contatore o indice del ciclo\n",
    "\n",
    "stampaMultipliDue()\n",
    "print()"
   ]
  },
  {
   "cell_type": "markdown",
   "metadata": {},
   "source": [
    "## Incapsulamento e generalizzazione"
   ]
  },
  {
   "cell_type": "markdown",
   "metadata": {},
   "source": [
    "L'**incapsulamento** è il processo di inserire un pezzo di codice (generalmente racchiuso in una funzione) all'interno di un'altra funzione così da permetterti di godere dei vantaggi delle funzioni.\n",
    "\n",
    "**Generalizzare** significa prendere qualcosa di specifico per farlo diventare generale: ad esempio prendere il programma che calcola i multipli di 2 e fargli calcolare i multipli di un qualsiasi numero intero."
   ]
  },
  {
   "cell_type": "markdown",
   "metadata": {},
   "source": [
    "Questa funzione incapsula il ciclo visto in precedenza e lo generalizza per stampare i primi 10 multipli di n:"
   ]
  },
  {
   "cell_type": "code",
   "execution_count": 8,
   "metadata": {},
   "outputs": [
    {
     "name": "stdout",
     "output_type": "stream",
     "text": [
      "6 \t12 \t18 \t24 \t30 \t36 \t42 \t48 \t54 \t60 \t"
     ]
    }
   ],
   "source": [
    "def stampaMultipli(n):\n",
    "    i = 1\n",
    "    while i <= 10:\n",
    "        print(n * i, \"\\t\", end='')\n",
    "        i = i + 1\n",
    "        \n",
    "stampaMultipli(6)"
   ]
  },
  {
   "cell_type": "code",
   "execution_count": 10,
   "metadata": {},
   "outputs": [
    {
     "name": "stdout",
     "output_type": "stream",
     "text": [
      "1 \t2 \t3 \t4 \t5 \t6 \t7 \t8 \t9 \t10 \t\n",
      "2 \t4 \t6 \t8 \t10 \t12 \t14 \t16 \t18 \t20 \t\n",
      "3 \t6 \t9 \t12 \t15 \t18 \t21 \t24 \t27 \t30 \t\n",
      "4 \t8 \t12 \t16 \t20 \t24 \t28 \t32 \t36 \t40 \t\n",
      "5 \t10 \t15 \t20 \t25 \t30 \t35 \t40 \t45 \t50 \t\n",
      "6 \t12 \t18 \t24 \t30 \t36 \t42 \t48 \t54 \t60 \t\n",
      "7 \t14 \t21 \t28 \t35 \t42 \t49 \t56 \t63 \t70 \t\n",
      "8 \t16 \t24 \t32 \t40 \t48 \t56 \t64 \t72 \t80 \t\n",
      "9 \t18 \t27 \t36 \t45 \t54 \t63 \t72 \t81 \t90 \t\n",
      "10 \t20 \t30 \t40 \t50 \t60 \t70 \t80 \t90 \t100 \t\n"
     ]
    }
   ],
   "source": [
    "def tabellina(i):\n",
    "    while i<=10:\n",
    "        stampaMultipli(i)\n",
    "        print()\n",
    "        i = i+1\n",
    "\n",
    "tabellina(1)"
   ]
  },
  {
   "cell_type": "markdown",
   "metadata": {},
   "source": [
    "Avrai certamente indovinato come stampare la tabella della moltiplicazione.\n",
    "Chiamiamo ripetutamente stampaMultipli con argomenti diversi all'interno di un secondo ciclo."
   ]
  },
  {
   "cell_type": "markdown",
   "metadata": {},
   "source": [
    "## Variabili locali"
   ]
  },
  {
   "cell_type": "markdown",
   "metadata": {},
   "source": [
    "Le variabili create all'interno della definizione di una funzione sono **locali** e non puoi accedere al valore di una variabile locale al di fuori della funzione che la ospita. Ciò significa che sei libero di avere variabili con lo stesso nome sempre che non si trovino all'interno di una stessa funzione."
   ]
  }
 ],
 "metadata": {
  "kernelspec": {
   "display_name": "Python 3",
   "language": "python",
   "name": "python3"
  },
  "language_info": {
   "codemirror_mode": {
    "name": "ipython",
    "version": 3
   },
   "file_extension": ".py",
   "mimetype": "text/x-python",
   "name": "python",
   "nbconvert_exporter": "python",
   "pygments_lexer": "ipython3",
   "version": "3.7.6"
  }
 },
 "nbformat": 4,
 "nbformat_minor": 2
}
