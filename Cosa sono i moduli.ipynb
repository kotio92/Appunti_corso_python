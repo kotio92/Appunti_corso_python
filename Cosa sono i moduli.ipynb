{
 "cells": [
  {
   "cell_type": "markdown",
   "metadata": {},
   "source": [
    "#### I moduli, anche conosciuti come librerie in altri linguaggi, sono dei file usati per raggruppare costanti, funzioni e classi, che ci consentono di suddividere e organizzare meglio i nostri progetti"
   ]
  },
  {
   "cell_type": "code",
   "execution_count": 1,
   "metadata": {},
   "outputs": [],
   "source": [
    "# Importo la libreria \"math\"\n",
    "import math as m\n",
    "import numpy as np\n",
    "import pandas as pd"
   ]
  },
  {
   "cell_type": "markdown",
   "metadata": {},
   "source": [
    "#### Una libreria contiene funzioni, costanti e classi"
   ]
  },
  {
   "cell_type": "code",
   "execution_count": 5,
   "metadata": {},
   "outputs": [
    {
     "name": "stdout",
     "output_type": "stream",
     "text": [
      "2\n",
      "2.718281828459045\n"
     ]
    }
   ],
   "source": [
    "# Esempi di funzioni di math\n",
    "radice = m.sqrt(4)\n",
    "print(int(radice))\n",
    "\n",
    "# Esempio di costanti di math\n",
    "\n",
    "print(m.e)"
   ]
  },
  {
   "cell_type": "code",
   "execution_count": 6,
   "metadata": {},
   "outputs": [
    {
     "name": "stdout",
     "output_type": "stream",
     "text": [
      "[ 1  4  7 -2]\n"
     ]
    },
    {
     "name": "stderr",
     "output_type": "stream",
     "text": [
      "C:\\Users\\ECellesino\\Anaconda3\\lib\\site-packages\\ipykernel_launcher.py:5: FutureWarning: The 'get_values' method is deprecated and will be removed in a future version. Use '.to_numpy()' or '.array' instead.\n",
      "  \"\"\"\n"
     ]
    }
   ],
   "source": [
    "# Ora dalla libreria pandas creo un oggetto serie_prova (classe Series) e provo poi\n",
    "# a utilizzare un metodo di tale classe\n",
    "\n",
    "serie_prova = pd.Series([1,4,7,-2],index = ['a','b','c','d'])\n",
    "print(serie_prova.get_values())\n",
    "\n",
    "# Oltre ai moduli, Python offre un ulteriore livello di organizzazione: i package.\n",
    "# Un package è una raccolta di moduli, che in genere corrisponde alla directory che li contiene"
   ]
  },
  {
   "cell_type": "code",
   "execution_count": null,
   "metadata": {},
   "outputs": [],
   "source": []
  }
 ],
 "metadata": {
  "kernelspec": {
   "display_name": "Python 3",
   "language": "python",
   "name": "python3"
  },
  "language_info": {
   "codemirror_mode": {
    "name": "ipython",
    "version": 3
   },
   "file_extension": ".py",
   "mimetype": "text/x-python",
   "name": "python",
   "nbconvert_exporter": "python",
   "pygments_lexer": "ipython3",
   "version": "3.7.6"
  }
 },
 "nbformat": 4,
 "nbformat_minor": 2
}
