{
 "cells": [
  {
   "cell_type": "markdown",
   "metadata": {},
   "source": [
    "# Collezioni"
   ]
  },
  {
   "cell_type": "markdown",
   "metadata": {},
   "source": [
    "Le strutture composite più comunemente usate per memorizzare i dati in Python sono le liste, le tuple, i set e i dizionari.\n",
    "Sono tutti esempi di **collezioni**."
   ]
  },
  {
   "cell_type": "markdown",
   "metadata": {},
   "source": [
    "## Liste"
   ]
  },
  {
   "cell_type": "markdown",
   "metadata": {},
   "source": [
    "Python implementa le liste sotto forma di array. Il loro tempo di ricerca è lineare, il che le rende una soluzione impraticabile per la memorizzazione di grandi quantità di dati soggetti a ricerche."
   ]
  },
  {
   "cell_type": "markdown",
   "metadata": {},
   "source": [
    "## Tuple"
   ]
  },
  {
   "cell_type": "markdown",
   "metadata": {},
   "source": [
    "Le tuple sono liste immutabili. Questo significa che una volta create, non possono più essere modificate. Anch’esse hanno un tempo di ricerca lineare."
   ]
  },
  {
   "cell_type": "markdown",
   "metadata": {},
   "source": [
    "## Set"
   ]
  },
  {
   "cell_type": "markdown",
   "metadata": {},
   "source": [
    "Un set è una raccolta non ordinata e non indicizzata. In Python i set sono scritti con parentesi graffe.\n",
    "Non è possibile accedere agli elementi in un set facendo riferimento a un indice, poiché gli elementi non sono indicizzati."
   ]
  },
  {
   "cell_type": "markdown",
   "metadata": {},
   "source": [
    "I set possono memorizzare al massimo una copia di ogni elemento e hanno un tempo di ricerca sub-lineare, O( 1). Pertanto sono eccellenti per la determinazione dell’appartenenza e per eliminare i duplicati."
   ]
  },
  {
   "cell_type": "code",
   "execution_count": 2,
   "metadata": {},
   "outputs": [
    {
     "name": "stdout",
     "output_type": "stream",
     "text": [
      "['ciao', 'kotio', 'ciao', 12]\n",
      "{'ciao', 12, 'kotio'}\n"
     ]
    }
   ],
   "source": [
    "# (se convertite in un set una lista contenente duplicati, i duplicati spariscono):\n",
    "\n",
    "lista = ['ciao','kotio','ciao',12]\n",
    "print(lista)\n",
    "\n",
    "# converto la lista in set\n",
    "\n",
    "elem_convertito = set(lista)\n",
    "print(elem_convertito)           \n",
    "# e i duplicati spariscono"
   ]
  },
  {
   "cell_type": "markdown",
   "metadata": {},
   "source": [
    "## Dizionari"
   ]
  },
  {
   "cell_type": "markdown",
   "metadata": {},
   "source": [
    "I dizionari creano una mappa fra chiavi e valori. \n",
    "Come chiave può essere usato un qualsiasi oggetto hashable (un numero, un valore booleano, una stringa o una tupla). "
   ]
  },
  {
   "cell_type": "markdown",
   "metadata": {},
   "source": [
    "Non vi è alcuna restrizione quanto ai tipi di dati dei valori di un dizionario. \n",
    "\n",
    "Anche i dizionari hanno un tempo di ricerca sublineare, O( 1). Sono pertanto eccellenti per le ricerche chiave-valore."
   ]
  },
  {
   "cell_type": "code",
   "execution_count": 3,
   "metadata": {},
   "outputs": [
    {
     "name": "stdout",
     "output_type": "stream",
     "text": [
      "{0: 'ciao', 1: 'kotio', 2: 'ciao', 3: 34, 4: 12, 5: 22.09}\n",
      "{'a': 'ciao', 'b': 'kotio', 'c': 'ciao', 'd': 34, 'e': 12, 'f': 22.09}\n"
     ]
    }
   ],
   "source": [
    "# Ci sono vari modi per creare un dizionario\n",
    "\n",
    "lista = ['ciao', 'kotio', 'ciao', 34, 12, 22.09]\n",
    "\n",
    "# Il primo è quello di partire da una lista, i cui elementi possono essere presi come valori del dizionario e ai quali\n",
    "# possiamo associare \n",
    "\n",
    "diz1 = dict(enumerate(lista))                       # o un indice numerico\n",
    "print(diz1)\n",
    "\n",
    "seqLettere = 'abcdef'\n",
    "diz2 = dict(zip(seqLettere,lista))                  # o dei caratteri scelti da noi\n",
    "print(diz2)\n"
   ]
  },
  {
   "cell_type": "markdown",
   "metadata": {},
   "source": [
    "### list()"
   ]
  },
  {
   "cell_type": "markdown",
   "metadata": {},
   "source": [
    "Si tratta di un generatore di liste, ovvero a partire da qualsiasi altra collection posso generare una lista."
   ]
  },
  {
   "cell_type": "code",
   "execution_count": 4,
   "metadata": {},
   "outputs": [
    {
     "name": "stdout",
     "output_type": "stream",
     "text": [
      "['a', 'b', 'c', 'd']\n",
      "['kotio', 12, 1229]\n",
      "[22, 'kotio', 'tupla']\n"
     ]
    }
   ],
   "source": [
    "diz = {'a':1, 'b':2, 'c':3, 'd':120}\n",
    "Set = {12, 'kotio', 1229}\n",
    "tupla = (22, 'kotio', 'tupla')\n",
    "\n",
    "print(list(diz))\n",
    "print(list(Set))\n",
    "print(list(tupla))"
   ]
  }
 ],
 "metadata": {
  "kernelspec": {
   "display_name": "Python 3",
   "language": "python",
   "name": "python3"
  },
  "language_info": {
   "codemirror_mode": {
    "name": "ipython",
    "version": 3
   },
   "file_extension": ".py",
   "mimetype": "text/x-python",
   "name": "python",
   "nbconvert_exporter": "python",
   "pygments_lexer": "ipython3",
   "version": "3.7.6"
  }
 },
 "nbformat": 4,
 "nbformat_minor": 2
}
