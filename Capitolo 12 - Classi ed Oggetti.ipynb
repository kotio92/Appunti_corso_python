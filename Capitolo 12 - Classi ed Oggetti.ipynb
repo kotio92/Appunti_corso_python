{
 "cells": [
  {
   "cell_type": "markdown",
   "metadata": {},
   "source": [
    "# Classi e oggetti"
   ]
  },
  {
   "cell_type": "markdown",
   "metadata": {},
   "source": [
    "Generazione della classe 'Punto'."
   ]
  },
  {
   "cell_type": "code",
   "execution_count": 1,
   "metadata": {},
   "outputs": [],
   "source": [
    "class Punto:    \n",
    "    pass\n",
    "\n",
    "p1 = Punto()     "
   ]
  },
  {
   "cell_type": "markdown",
   "metadata": {},
   "source": [
    "Punto() è una funzione che crea un oggetto (o istanza) di tipo Punto; dicesi **Costruttore**."
   ]
  },
  {
   "cell_type": "markdown",
   "metadata": {},
   "source": [
    "### Attributi"
   ]
  },
  {
   "cell_type": "code",
   "execution_count": 2,
   "metadata": {},
   "outputs": [
    {
     "name": "stdout",
     "output_type": "stream",
     "text": [
      "4.0 12.0\n",
      "25\n",
      "<__main__.Punto object at 0x000002D5430FA508>\n"
     ]
    }
   ],
   "source": [
    "p1.x = 4.0    # vai all'oggetto puntato da P1 e assegna un valore al suo attributo x\n",
    "p1.y = 12.0   # vai all'oggetto puntato da P1 e assegna un valore al suo attributo y\n",
    "\n",
    "print(p1.x,p1.y)  # stampo gli attributi dell'oggeto p1\n",
    "\n",
    "x =25\n",
    "print(x)\n",
    "# : non c'è conflitto tra la variabile locale x e l'attributo x di P1: lo scopo della notazione punto è\n",
    "# proprio quello di identificare la variabile cui ci si riferisce evitando le ambiguità.\n",
    "\n",
    "print(p1)  # Il risultato indica che P1 è un'istanza della classe Punto e che è stato definito in __main__.\n",
    "           # 0x000002616E81E0F0 è l'identificatore univoco dell'oggetto, scritto in base 16 (esadecimale)."
   ]
  },
  {
   "cell_type": "markdown",
   "metadata": {},
   "source": [
    "### Istanze come parametri"
   ]
  },
  {
   "cell_type": "markdown",
   "metadata": {},
   "source": [
    "Possiamo passare un'istanza come parametro ad una funzione nel solito modo:"
   ]
  },
  {
   "cell_type": "code",
   "execution_count": 3,
   "metadata": {},
   "outputs": [
    {
     "name": "stdout",
     "output_type": "stream",
     "text": [
      "x: 4.0\n",
      "y: 12.0\n"
     ]
    }
   ],
   "source": [
    "def stampaPunto(punto):\n",
    "    print('x:',p1.x)\n",
    "    print('y:', p1.y)\n",
    "\n",
    "stampaPunto(p1)"
   ]
  },
  {
   "cell_type": "markdown",
   "metadata": {},
   "source": [
    "### Uguaglianza"
   ]
  },
  {
   "cell_type": "code",
   "execution_count": 4,
   "metadata": {},
   "outputs": [
    {
     "name": "stdout",
     "output_type": "stream",
     "text": [
      "p1 e p2 fanno riferimento allo stesso oggetto:  False\n",
      "p1 e p2 fanno riferimento allo stesso oggetto:  True\n",
      "124\n"
     ]
    }
   ],
   "source": [
    "p1.x = 3\n",
    "p1.y = 5\n",
    "p2 = Punto()\n",
    "p2.x = 3\n",
    "p2.y = 5\n",
    "\n",
    "print('p1 e p2 fanno riferimento allo stesso oggetto: ',p1 == p2)\n",
    "# p1 e p2 hanno stessi attributi ma fanno riferimento a 2 oggetti diversi\n",
    "\n",
    "p1 = p2 # così facendo invece sto associando p2 a p1, quindi entrambi punteranno allo stesso oggetto\n",
    "print('p1 e p2 fanno riferimento allo stesso oggetto: ',p1 == p2)\n",
    "\n",
    "# Quindi se cambio l'attributo x di p1, dato che punta allo stesso oggetto di p2, cambierà anche l'attributo\n",
    "# x di p2\n",
    "\n",
    "p1.x = 124\n",
    "print(p2.x)\n"
   ]
  },
  {
   "cell_type": "markdown",
   "metadata": {},
   "source": [
    "### Classe rettangolo"
   ]
  },
  {
   "cell_type": "code",
   "execution_count": 5,
   "metadata": {},
   "outputs": [],
   "source": [
    "class Rettangolo():\n",
    "    pass\n",
    "\n",
    "r1 = Rettangolo()\n",
    "r1.larghezza = 100.0\n",
    "r1.altezza = 200.0\n",
    "r1.altosinistra = Punto()\n",
    "r1.altosinistra.x = 0.0\n",
    "r1.altosinistra.y = 0.0"
   ]
  },
  {
   "cell_type": "markdown",
   "metadata": {},
   "source": [
    "L'operatore punto è usato per comporre l'espressione: r1.AltoSinistra.x significa \"vai all'oggetto cui si\n",
    "riferisce r1 e seleziona l'attributo chiamato AltoSinistra; poi vai all'oggetto cui si riferisce AltoSinistra\n",
    "e seleziona l'attributo chiamato x."
   ]
  },
  {
   "cell_type": "markdown",
   "metadata": {},
   "source": [
    "### Istanze come valori di ritorno"
   ]
  },
  {
   "cell_type": "markdown",
   "metadata": {},
   "source": [
    "Le funzioni possono ritornare istanze. Possiamo quindi scrivere una funzione TrovaCentro che prende un oggetto\n",
    "Rettangolo come argomento e restituisce un oggetto Punto che contiene le coordinate del centro del rettangolo"
   ]
  },
  {
   "cell_type": "code",
   "execution_count": 6,
   "metadata": {},
   "outputs": [
    {
     "name": "stdout",
     "output_type": "stream",
     "text": [
      "Coordinate centro:\n",
      "x: -50.0 y: -100.0\n"
     ]
    }
   ],
   "source": [
    "def trovaCentro(rettangolo):\n",
    "    centro = Punto()\n",
    "    centro.y = (r1.altosinistra.y-r1.altezza)/2\n",
    "    centro.x = (r1.altosinistra.x - r1.larghezza)/2\n",
    "    return centro\n",
    "\n",
    "centro = trovaCentro(r1)\n",
    "print('Coordinate centro:')\n",
    "print('x:',centro.x,'y:',centro.y)"
   ]
  },
  {
   "cell_type": "markdown",
   "metadata": {},
   "source": [
    "### Copia"
   ]
  },
  {
   "cell_type": "markdown",
   "metadata": {},
   "source": [
    "Per copiare un semplice oggetto come Punto che non contiene altri oggetti al proprio interno copy è sufficiente. Questa è chiamata **copia debole**.\n"
   ]
  },
  {
   "cell_type": "code",
   "execution_count": 7,
   "metadata": {},
   "outputs": [
    {
     "name": "stdout",
     "output_type": "stream",
     "text": [
      "p1:  124 5\n",
      "p3:  124 5\n"
     ]
    }
   ],
   "source": [
    "import copy\n",
    "\n",
    "p3 = copy.copy(p1)\n",
    "print('p1: ', p1.x, p1.y)\n",
    "print('p3: ', p3.x, p3.y)"
   ]
  },
  {
   "cell_type": "markdown",
   "metadata": {},
   "source": [
    "Quando abbiamo a che fare con un oggetto (es. rettangolo) che contiene al proprio interno un riferimento ad un altro oggetto (es. Punto), copy non lavora come ci si aspetta dato che viene copiato il riferimento a Punto così che sia il vecchio che il nuovo Rettangolo si riferiscono allo stesso oggetto invece di averne uno proprio per ciascuno."
   ]
  },
  {
   "cell_type": "markdown",
   "metadata": {},
   "source": [
    "Fortunatamente il modulo copy contiene un altro metodo chiamato *deepcopy* che copia correttamente non solo l'oggetto ma anche gli eventuali oggetti presenti al suo interno:"
   ]
  },
  {
   "cell_type": "markdown",
   "metadata": {},
   "source": [
    "r2 = copy.deepcopy(r1)\n",
    "r3 = copy.copy(r1)\n",
    "print('r1: ',r1.altezza, r1.larghezza, r1.altosinistra.x, r1.altosinistra.y)\n",
    "print('r2: deepcopia',r2.altezza, r2.larghezza, r2.altosinistra.x, r2.altosinistra.y)\n",
    "print('r3: copia',r3.altezza, r3.larghezza, r3.altosinistra.x, r3.altosinistra.y)\n",
    "\n",
    "r1.altosinistra.x =78.0\n",
    "print()\n",
    "\n",
    "print('r1: ',r1.altezza, r1.larghezza, r1.altosinistra.x, r1.altosinistra.y)\n",
    "print('r2: deepcopia',r2.altezza, r2.larghezza, r2.altosinistra.x, r2.altosinistra.y) # La deepcopia non è cambiata\n",
    "print('r3: copia',r3.altezza, r3.larghezza, r3.altosinistra.x, r3.altosinistra.y)  # la copia è cambiata"
   ]
  }
 ],
 "metadata": {
  "kernelspec": {
   "display_name": "Python 3",
   "language": "python",
   "name": "python3"
  },
  "language_info": {
   "codemirror_mode": {
    "name": "ipython",
    "version": 3
   },
   "file_extension": ".py",
   "mimetype": "text/x-python",
   "name": "python",
   "nbconvert_exporter": "python",
   "pygments_lexer": "ipython3",
   "version": "3.7.6"
  }
 },
 "nbformat": 4,
 "nbformat_minor": 2
}
