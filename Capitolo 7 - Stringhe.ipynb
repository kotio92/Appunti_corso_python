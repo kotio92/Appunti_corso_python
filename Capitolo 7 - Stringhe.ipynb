{
 "cells": [
  {
   "cell_type": "markdown",
   "metadata": {},
   "source": [
    "# Stringhe"
   ]
  },
  {
   "cell_type": "markdown",
   "metadata": {},
   "source": [
    "#### Tipi di dati composti"
   ]
  },
  {
   "cell_type": "markdown",
   "metadata": {},
   "source": [
    "Le stringhe sono qualitativamente diverse dagli altri tipi di dati poiché sono composte di unità più piccole: i **caratteri**."
   ]
  },
  {
   "cell_type": "markdown",
   "metadata": {},
   "source": [
    "I tipi di dati che sono fatti di elementi più piccoli sono detti tipi di **dati composti**."
   ]
  },
  {
   "cell_type": "markdown",
   "metadata": {},
   "source": [
    "A seconda di ciò che stiamo facendo possiamo avere la necessità di trattare un tipo composto come fosse una singola entità o possiamo voler agire sulle sue singole parti. Questa duplice possibilità è molto utile."
   ]
  },
  {
   "cell_type": "code",
   "execution_count": 1,
   "metadata": {},
   "outputs": [
    {
     "name": "stdout",
     "output_type": "stream",
     "text": [
      "banana\n",
      "b\n",
      "<class 'str'>\n"
     ]
    }
   ],
   "source": [
    "frutto = 'banana'\n",
    "print(frutto)\n",
    "print(frutto[0])\n",
    "print(type(frutto))"
   ]
  },
  {
   "cell_type": "markdown",
   "metadata": {},
   "source": [
    "L'operatore porzione **[ ]** seleziona dei caratteri da una stringa."
   ]
  },
  {
   "cell_type": "markdown",
   "metadata": {},
   "source": [
    "L'espressione tra parentesi quadrate è chiamata **indice**. Un indice identifica un particolare elemento di un insieme ordinato che nel nostro caso è l'insieme dei caratteri di una stringa."
   ]
  },
  {
   "cell_type": "markdown",
   "metadata": {},
   "source": [
    "### Lunghezza"
   ]
  },
  {
   "cell_type": "markdown",
   "metadata": {},
   "source": [
    "La funzione *len* ritorna il numero di caratteri di una stringa:"
   ]
  },
  {
   "cell_type": "code",
   "execution_count": 2,
   "metadata": {},
   "outputs": [
    {
     "name": "stdout",
     "output_type": "stream",
     "text": [
      "6\n"
     ]
    }
   ],
   "source": [
    "print(len(frutto))"
   ]
  },
  {
   "cell_type": "markdown",
   "metadata": {},
   "source": [
    "Possiamo usare indici negativi per contare a partire dalla fine della stringa:"
   ]
  },
  {
   "cell_type": "code",
   "execution_count": 3,
   "metadata": {},
   "outputs": [
    {
     "name": "stdout",
     "output_type": "stream",
     "text": [
      "a\n",
      "n\n"
     ]
    }
   ],
   "source": [
    "print(frutto[-1])  # ultimo carattere\n",
    "print(frutto[-2])  # penultimo carattere"
   ]
  },
  {
   "cell_type": "markdown",
   "metadata": {},
   "source": [
    "### Elaborazione trasversale"
   ]
  },
  {
   "cell_type": "markdown",
   "metadata": {},
   "source": [
    "Molti tipi di elaborazione comportano un'azione su una stringa un carattere per volta. Spesso queste elaborazioni iniziano dal primo carattere, selezionano un carattere per volta e continuano fino al completamento della stringa. Questo tipo di elaborazione è definita **elaborazione trasversale** o **attraversamento**, in quanto attraversa la stringa dall'inizio alla fine."
   ]
  },
  {
   "cell_type": "markdown",
   "metadata": {},
   "source": [
    "Un modo per implementare un'elaborazione trasversale è quello di usare un ciclo while:"
   ]
  },
  {
   "cell_type": "code",
   "execution_count": 4,
   "metadata": {},
   "outputs": [
    {
     "name": "stdout",
     "output_type": "stream",
     "text": [
      "k\n",
      "o\n",
      "t\n",
      "i\n",
      "o\n"
     ]
    }
   ],
   "source": [
    "parola = \"kotio\"\n",
    "i = 0\n",
    "while i <len(parola):\n",
    "    lettera = parola[i]\n",
    "    print(lettera)\n",
    "    i = i + 1"
   ]
  },
  {
   "cell_type": "markdown",
   "metadata": {},
   "source": [
    "## Ciclo for"
   ]
  },
  {
   "cell_type": "markdown",
   "metadata": {},
   "source": [
    "Usare un indice per attraversare un insieme di valori è un'operazione così comune che Python fornisce una sintassi ancora più semplice: il **ciclo for**.\n"
   ]
  },
  {
   "cell_type": "code",
   "execution_count": 5,
   "metadata": {},
   "outputs": [
    {
     "name": "stdout",
     "output_type": "stream",
     "text": [
      "k\n",
      "o\n",
      "t\n",
      "i\n",
      "o\n"
     ]
    }
   ],
   "source": [
    "for x in parola:\n",
    "    print(x)"
   ]
  },
  {
   "cell_type": "markdown",
   "metadata": {},
   "source": [
    "### Porzioni di stringa"
   ]
  },
  {
   "cell_type": "markdown",
   "metadata": {},
   "source": [
    "Un segmento di stringa è chiamato **porzione**."
   ]
  },
  {
   "cell_type": "markdown",
   "metadata": {},
   "source": [
    "La selezione di una porzione è simile alla selezione di un carattere:"
   ]
  },
  {
   "cell_type": "code",
   "execution_count": 9,
   "metadata": {},
   "outputs": [
    {
     "name": "stdout",
     "output_type": "stream",
     "text": [
      "Salve m\n",
      "Salve m\n",
      "Enrico\n",
      "chiamo Enrico\n"
     ]
    }
   ],
   "source": [
    "frase = \"Salve mi chiamo Enrico\"\n",
    "\n",
    "print(frase[0:7])\n",
    "print(frase[:7])     # porzione iniziale\n",
    "print(frase[-6:])    # porzione finale\n",
    "\n",
    "print(frase[9:22])"
   ]
  },
  {
   "cell_type": "markdown",
   "metadata": {},
   "source": [
    "L'operatore [n:m] ritorna la stringa a partire dall' \"n-esimo\" carattere incluso fino all' \"m-esimo\" escluso."
   ]
  },
  {
   "cell_type": "code",
   "execution_count": 10,
   "metadata": {},
   "outputs": [
    {
     "name": "stdout",
     "output_type": "stream",
     "text": [
      "Salve mi chiamo Enrico\n"
     ]
    }
   ],
   "source": [
    "print(frase[:])   # così si stampa tutta la stringa dall'inizio alla fine"
   ]
  },
  {
   "cell_type": "markdown",
   "metadata": {},
   "source": [
    "## Confronto di stringhe"
   ]
  },
  {
   "cell_type": "markdown",
   "metadata": {},
   "source": [
    "Gli operatori di confronto operano anche sulle stringhe. "
   ]
  },
  {
   "cell_type": "code",
   "execution_count": 12,
   "metadata": {},
   "outputs": [
    {
     "name": "stdout",
     "output_type": "stream",
     "text": [
      "Scrivi la parola: Enrico\n",
      "Match !\n"
     ]
    }
   ],
   "source": [
    "# Per vedere se due stringhe sono uguali:\n",
    "\n",
    "def scriviParola():\n",
    "    stringaInput = input(\"Scrivi la parola: \")\n",
    "    return stringaInput\n",
    "\n",
    "stringaInput = scriviParola()\n",
    "\n",
    "if stringaInput == 'Enrico':\n",
    "    print(\"Match !\")\n",
    "else:\n",
    "    print(\"No...\")"
   ]
  },
  {
   "cell_type": "code",
   "execution_count": 15,
   "metadata": {},
   "outputs": [
    {
     "name": "stdout",
     "output_type": "stream",
     "text": [
      "Parola n 1: milano\n",
      "Parola n 2: bari\n",
      "Nell'alfabeto viene prima: bari\n"
     ]
    }
   ],
   "source": [
    "# Altri operatori di confronto sono utili per mettere le parole in ordine alfabetico:\n",
    "\n",
    "def scriviParolaUno():\n",
    "    parola1 = input(\"Parola n 1: \")\n",
    "    return  parola1\n",
    "\n",
    "def scriviParolaDue():\n",
    "    parola2 = input(\"Parola n 2: \")\n",
    "    return parola2\n",
    "\n",
    "parola1 = scriviParolaUno()\n",
    "parola2 = scriviParolaDue()\n",
    "\n",
    "if parola1<parola2:\n",
    "    print(\"Nell'alfabeto viene prima:\", parola1)\n",
    "elif parola1>parola2:\n",
    "    print(\"Nell'alfabeto viene prima:\", parola2)\n",
    "elif parola1 == parola2:\n",
    "    print(\"Stessa parola\")"
   ]
  },
  {
   "cell_type": "markdown",
   "metadata": {},
   "source": [
    "**N.B**: fare attenzione al fatto che Python non gestisce le parole maiuscole e minuscole come facciamo noi in modo intuitivo: in un confronto le lettere maiuscole vengono sempre prima delle minuscole.\n"
   ]
  },
  {
   "cell_type": "markdown",
   "metadata": {},
   "source": [
    "### Stringhe immutabili"
   ]
  },
  {
   "cell_type": "code",
   "execution_count": 16,
   "metadata": {},
   "outputs": [],
   "source": [
    "parola = \"ciao\"\n",
    "# parola[0] = 'm'   Fare questa modifica non è possibile"
   ]
  },
  {
   "cell_type": "markdown",
   "metadata": {},
   "source": [
    "Le stringhe sono infatti immutabili e ciò significa che non puoi cambiare una stringa esistente. L'unica cosa che puoi eventualmente fare è creare una nuova stringa"
   ]
  },
  {
   "cell_type": "code",
   "execution_count": 17,
   "metadata": {},
   "outputs": [
    {
     "name": "stdout",
     "output_type": "stream",
     "text": [
      "miao\n"
     ]
    }
   ],
   "source": [
    "newParola = 'm' + parola[1:]\n",
    "print(newParola)"
   ]
  },
  {
   "cell_type": "markdown",
   "metadata": {},
   "source": [
    "### Funzione trova"
   ]
  },
  {
   "cell_type": "code",
   "execution_count": 19,
   "metadata": {},
   "outputs": [
    {
     "name": "stdout",
     "output_type": "stream",
     "text": [
      "k\n"
     ]
    }
   ],
   "source": [
    "def trova(stringa, carattere):\n",
    "    i = 0\n",
    "    while i<len(stringa):\n",
    "        if carattere == stringa[i]:\n",
    "            print(carattere)\n",
    "        else:\n",
    "            pass\n",
    "        i = i+1\n",
    "\n",
    "trova('kotio','k')"
   ]
  },
  {
   "cell_type": "markdown",
   "metadata": {},
   "source": [
    "### Cicli e contatori"
   ]
  },
  {
   "cell_type": "code",
   "execution_count": 20,
   "metadata": {},
   "outputs": [
    {
     "name": "stdout",
     "output_type": "stream",
     "text": [
      "3\n"
     ]
    }
   ],
   "source": [
    "# Questo programma conta il numero di volte in cui la lettera 'a' compare in una stringa, usando un contatore:\n",
    "\n",
    "def contaA(stringa):\n",
    "    contatore = 0\n",
    "    for i in stringa:\n",
    "        if (i=='a'):\n",
    "            contatore = contatore + 1\n",
    "        else:\n",
    "            pass\n",
    "    print(contatore)\n",
    "\n",
    "contaA(\"banana\")"
   ]
  }
 ],
 "metadata": {
  "kernelspec": {
   "display_name": "Python 3",
   "language": "python",
   "name": "python3"
  },
  "language_info": {
   "codemirror_mode": {
    "name": "ipython",
    "version": 3
   },
   "file_extension": ".py",
   "mimetype": "text/x-python",
   "name": "python",
   "nbconvert_exporter": "python",
   "pygments_lexer": "ipython3",
   "version": "3.7.6"
  }
 },
 "nbformat": 4,
 "nbformat_minor": 2
}
