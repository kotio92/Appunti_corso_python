{
 "cells": [
  {
   "cell_type": "markdown",
   "metadata": {},
   "source": [
    "# Funzioni"
   ]
  },
  {
   "cell_type": "markdown",
   "metadata": {},
   "source": [
    "La funzione **type** mostra il tipo della variabile (o meglio, esplicita la classe dell'oggetto in parentesi). L'argomento della funzione deve essere racchiuso tra parentesi. È comune dire che una funzione \"prende\" o \"accetta\" un argomento e \"ritorna\" o \"restituisce\" un risultato. Il risultato è detto valore di ritorno."
   ]
  },
  {
   "cell_type": "code",
   "execution_count": 1,
   "metadata": {},
   "outputs": [
    {
     "name": "stdout",
     "output_type": "stream",
     "text": [
      "<class 'int'>\n"
     ]
    }
   ],
   "source": [
    "risultato = type(33)\n",
    "print(risultato)"
   ]
  },
  {
   "cell_type": "markdown",
   "metadata": {},
   "source": [
    "## Conversioni di tipo"
   ]
  },
  {
   "cell_type": "markdown",
   "metadata": {},
   "source": [
    "#### Conversione di intero in stringa"
   ]
  },
  {
   "cell_type": "code",
   "execution_count": 2,
   "metadata": {},
   "outputs": [
    {
     "name": "stdout",
     "output_type": "stream",
     "text": [
      "<class 'str'>\n"
     ]
    }
   ],
   "source": [
    "a = str(32)\n",
    "print(type(a))"
   ]
  },
  {
   "cell_type": "markdown",
   "metadata": {},
   "source": [
    "#### Conversione di stringa in intero"
   ]
  },
  {
   "cell_type": "code",
   "execution_count": 3,
   "metadata": {},
   "outputs": [
    {
     "name": "stdout",
     "output_type": "stream",
     "text": [
      "<class 'int'>\n"
     ]
    }
   ],
   "source": [
    "b = int(\"122\")\n",
    "print(type(b))"
   ]
  },
  {
   "cell_type": "markdown",
   "metadata": {},
   "source": [
    "#### Conversione di stringa in float"
   ]
  },
  {
   "cell_type": "code",
   "execution_count": 4,
   "metadata": {},
   "outputs": [
    {
     "name": "stdout",
     "output_type": "stream",
     "text": [
      "<class 'float'>\n"
     ]
    }
   ],
   "source": [
    "c = float(\"58\")\n",
    "print(type(c))"
   ]
  },
  {
   "cell_type": "markdown",
   "metadata": {},
   "source": [
    "## Funzioni matematiche"
   ]
  },
  {
   "cell_type": "markdown",
   "metadata": {},
   "source": [
    "Python è provvisto di un modulo matematico che permette di eseguire le più comuni operazioni matematiche."
   ]
  },
  {
   "cell_type": "markdown",
   "metadata": {},
   "source": [
    "Un **modulo** è un file che contiene una raccolta di funzioni raggruppate (ma anche classi, variabili ecc; vedi file sui moduli)."
   ]
  },
  {
   "cell_type": "markdown",
   "metadata": {},
   "source": [
    "Prima di poter usare le funzioni di un modulo dobbiamo dire all'interprete di caricare il modulo in memoria. Questa operazione viene detta \"**importazione**\":"
   ]
  },
  {
   "cell_type": "code",
   "execution_count": 5,
   "metadata": {},
   "outputs": [],
   "source": [
    "import math"
   ]
  },
  {
   "cell_type": "markdown",
   "metadata": {},
   "source": [
    "Per chiamare una funzione di un modulo dobbiamo specificare il nome del modulo che la contiene e il nome della funzione separati da un punto. Questo formato è chiamato **notazione punto**."
   ]
  },
  {
   "cell_type": "code",
   "execution_count": 6,
   "metadata": {},
   "outputs": [
    {
     "name": "stdout",
     "output_type": "stream",
     "text": [
      "2.0\n",
      "3.141592653589793\n"
     ]
    }
   ],
   "source": [
    "calcolo = math.sqrt(4)    # esempio di funzione del modulo math\n",
    "print(calcolo)\n",
    "\n",
    "pi_greco = math.pi\n",
    "print(pi_greco)\n"
   ]
  },
  {
   "cell_type": "markdown",
   "metadata": {},
   "source": [
    "## Aggiungere nuove funzioni matematiche"
   ]
  },
  {
   "cell_type": "markdown",
   "metadata": {},
   "source": [
    "Finora abbiamo soltanto usato funzioni che fanno parte di Python, ma è possibile aggiungerne di nuove."
   ]
  },
  {
   "cell_type": "markdown",
   "metadata": {},
   "source": [
    "Nel contesto della programmazione una funzione è una sequenza di istruzioni che esegue una determinata operazione."
   ]
  },
  {
   "cell_type": "markdown",
   "metadata": {},
   "source": [
    "Questa azione è descritta in una definizione di funzione."
   ]
  },
  {
   "cell_type": "markdown",
   "metadata": {},
   "source": [
    "La sintassi per la definizione di una funzione è:"
   ]
  },
  {
   "cell_type": "code",
   "execution_count": 7,
   "metadata": {},
   "outputs": [
    {
     "name": "stdout",
     "output_type": "stream",
     "text": [
      "ciao \n"
     ]
    }
   ],
   "source": [
    "def stampaCiao():    # questa funzione non ha parametri in ingresso\n",
    "    print(\"ciao \")    # Mentre nella maggior parte dei linguaggi l'indentazione è facoltativa e dipende da come\n",
    "                      # il programmatore vuole organizzare visivamente il suo codice, in Python è obbligatoria.\n",
    "\n",
    "stampaCiao()         # richiamo la funzione"
   ]
  },
  {
   "cell_type": "code",
   "execution_count": 9,
   "metadata": {},
   "outputs": [
    {
     "name": "stdout",
     "output_type": "stream",
     "text": [
      "ciao \n",
      "kotio\n"
     ]
    }
   ],
   "source": [
    "def stampaCiaoKotio():\n",
    "    stampaCiao()\n",
    "    print(\"kotio\")\n",
    "\n",
    "stampaCiaoKotio()"
   ]
  },
  {
   "cell_type": "markdown",
   "metadata": {},
   "source": [
    "#### CASO PARTICOLARE: virgolette dentro la stringa"
   ]
  },
  {
   "cell_type": "code",
   "execution_count": 10,
   "metadata": {},
   "outputs": [],
   "source": [
    "def stampaInput(ingresso):\n",
    "    uscita = ingresso\n",
    "    print(uscita)"
   ]
  },
  {
   "cell_type": "code",
   "execution_count": 11,
   "metadata": {},
   "outputs": [
    {
     "name": "stdout",
     "output_type": "stream",
     "text": [
      "Mi chiamo Enrico ma mi chiamano 'Kotio'\n",
      "Mi chiamo Kotio ma mi chiamanao \"Enrico\"\n"
     ]
    }
   ],
   "source": [
    "stampaInput(\"Mi chiamo Enrico ma mi chiamano 'Kotio'\")     # caso virgolette dentro stringa\n",
    "stampaInput('Mi chiamo Kotio ma mi chiamanao \"Enrico\"')    # caso virgolette dentro stringa"
   ]
  },
  {
   "cell_type": "markdown",
   "metadata": {},
   "source": [
    "## Variabili e parametri sono locali"
   ]
  },
  {
   "cell_type": "markdown",
   "metadata": {},
   "source": [
    "Quando crei una variabile locale all'interno di una funzione, essa esiste solo all'interno della funzione e non puoi usarla all'esterno."
   ]
  },
  {
   "cell_type": "code",
   "execution_count": 13,
   "metadata": {},
   "outputs": [
    {
     "ename": "NameError",
     "evalue": "name 'ingresso' is not defined",
     "output_type": "error",
     "traceback": [
      "\u001b[1;31m---------------------------------------------------------------------------\u001b[0m",
      "\u001b[1;31mNameError\u001b[0m                                 Traceback (most recent call last)",
      "\u001b[1;32m<ipython-input-13-75582f57ca8a>\u001b[0m in \u001b[0;36m<module>\u001b[1;34m\u001b[0m\n\u001b[1;32m----> 1\u001b[1;33m \u001b[0mprint\u001b[0m\u001b[1;33m(\u001b[0m\u001b[0mingresso\u001b[0m\u001b[1;33m)\u001b[0m   \u001b[1;31m# parametro di ingresso di una funzione; non esiste più\u001b[0m\u001b[1;33m\u001b[0m\u001b[1;33m\u001b[0m\u001b[0m\n\u001b[0m",
      "\u001b[1;31mNameError\u001b[0m: name 'ingresso' is not defined"
     ]
    }
   ],
   "source": [
    "print(ingresso)   # parametro di ingresso di una funzione; non esiste più"
   ]
  },
  {
   "cell_type": "code",
   "execution_count": 14,
   "metadata": {},
   "outputs": [
    {
     "ename": "NameError",
     "evalue": "name 'uscita' is not defined",
     "output_type": "error",
     "traceback": [
      "\u001b[1;31m---------------------------------------------------------------------------\u001b[0m",
      "\u001b[1;31mNameError\u001b[0m                                 Traceback (most recent call last)",
      "\u001b[1;32m<ipython-input-14-e57c10e9029e>\u001b[0m in \u001b[0;36m<module>\u001b[1;34m\u001b[0m\n\u001b[1;32m----> 1\u001b[1;33m \u001b[0mprint\u001b[0m\u001b[1;33m(\u001b[0m\u001b[0muscita\u001b[0m\u001b[1;33m)\u001b[0m     \u001b[1;31m# variabile creata in una funzione; non esiste più\u001b[0m\u001b[1;33m\u001b[0m\u001b[1;33m\u001b[0m\u001b[0m\n\u001b[0m",
      "\u001b[1;31mNameError\u001b[0m: name 'uscita' is not defined"
     ]
    }
   ],
   "source": [
    "print(uscita)     # variabile creata in una funzione; non esiste più"
   ]
  },
  {
   "cell_type": "markdown",
   "metadata": {},
   "source": [
    "## __Main__"
   ]
  },
  {
   "cell_type": "markdown",
   "metadata": {},
   "source": [
    "Possiamo vedere che stampaCiao è chiamata da stampaCiaoKotio e che stampaCiaoKotio è chiamata da __main__. La funzione __main__ in Python funge da punto di esecuzione per qualsiasi programma. Definire la funzione __main__ nella programmazione Python è necessario per avviare l'esecuzione del programma. Quando crei una variabile all'esterno di ogni funzione, essa appartiene a __main__.\n"
   ]
  }
 ],
 "metadata": {
  "kernelspec": {
   "display_name": "Python 3",
   "language": "python",
   "name": "python3"
  },
  "language_info": {
   "codemirror_mode": {
    "name": "ipython",
    "version": 3
   },
   "file_extension": ".py",
   "mimetype": "text/x-python",
   "name": "python",
   "nbconvert_exporter": "python",
   "pygments_lexer": "ipython3",
   "version": "3.7.6"
  }
 },
 "nbformat": 4,
 "nbformat_minor": 2
}
